{
 "cells": [
  {
   "cell_type": "code",
   "execution_count": null,
   "id": "cba6fd3c",
   "metadata": {},
   "outputs": [],
   "source": [
    "id = 160\n",
    "\n",
    "# Example usage:\n",
    "folder_paths = [\n",
    "    f\"../results/graph/llama-2-7b-80k_id_{id}_relevant\",\n",
    "    f\"../results/graph/llama-2-7b-80k_id_{id}_irrelevant\",\n",
    "    f\"../results/graph/llama-2-7b-80k_id_{id}_relevant_misleading\",\n",
    "    f\"../results/graph/llama-2-7b-80k_id_{id}_irrelevant_misleading\"\n",
    "]\n",
    "\n",
    "titles = [\n",
    "    f\"Relevant ID {id}\",\n",
    "    f\"Irrelevant ID {id}\",\n",
    "    f\"Misleading in Relevant ID {id}\",\n",
    "    f\"Misleading in Irrelevant ID {id}\"\n",
    "\n",
    "]\n",
    "\n",
    "plot_multiple_heatmaps(folder_paths, titles)"
   ]
  },
  {
   "cell_type": "markdown",
   "id": "fb2d4e4a",
   "metadata": {},
   "source": [
    "## Setup"
   ]
  },
  {
   "cell_type": "code",
   "execution_count": 1,
   "id": "5edcdae1",
   "metadata": {},
   "outputs": [],
   "source": [
    "import pandas as pd\n",
    "import seaborn as sns\n",
    "import matplotlib.pyplot as plt\n",
    "from matplotlib.colors import LinearSegmentedColormap\n",
    "import json\n",
    "import glob"
   ]
  },
  {
   "cell_type": "markdown",
   "id": "50289f65",
   "metadata": {},
   "source": [
    "## Helper Functions"
   ]
  },
  {
   "cell_type": "code",
   "execution_count": 2,
   "id": "4ca48c52",
   "metadata": {},
   "outputs": [],
   "source": [
    "def load_and_process_data(folder_path):\n",
    "    \"\"\"Load JSON files from folder and return a pivot table.\"\"\"\n",
    "    json_files = glob.glob(f\"{folder_path}/*.json\")\n",
    "    data = []\n",
    "    for file in json_files:\n",
    "        with open(file, 'r') as f:\n",
    "            json_data = json.load(f)\n",
    "            data.append({\n",
    "                \"Document Depth\": json_data.get(\"depth_percent\", None),\n",
    "                \"Context Length\": json_data.get(\"context_length\", None),\n",
    "                \"Score\": json_data.get(\"score\", None)\n",
    "            })\n",
    "    df = pd.DataFrame(data)\n",
    "    pivot_table = pd.pivot_table(df, values='Score', index=['Document Depth', 'Context Length'], aggfunc='mean').reset_index()\n",
    "    pivot_table = pivot_table.pivot(index=\"Document Depth\", columns=\"Context Length\", values=\"Score\")\n",
    "    return pivot_table"
   ]
  },
  {
   "cell_type": "code",
   "execution_count": 3,
   "id": "226267d4",
   "metadata": {},
   "outputs": [],
   "source": [
    "def plot_heatmap(pivot_table, title):\n",
    "    \"\"\"Plot the heatmap for a given pivot table.\"\"\"\n",
    "    cmap = LinearSegmentedColormap.from_list(\"custom_cmap\", [\"#F0496E\", \"#EBB839\", \"#0CD79F\"])\n",
    "    plt.figure(figsize=(12, 6))\n",
    "    sns.heatmap(\n",
    "        pivot_table,\n",
    "        cmap=cmap,\n",
    "        cbar_kws={'label': 'Score'},\n",
    "        vmin=0, vmax=100)\n",
    "    plt.title(title)\n",
    "    plt.xlabel('Token Limit')\n",
    "    plt.ylabel('Depth Percent')\n",
    "    plt.xticks(rotation=45)\n",
    "    plt.yticks(rotation=0)\n",
    "    plt.tight_layout()\n",
    "    plt.show()"
   ]
  },
  {
   "cell_type": "code",
   "execution_count": 4,
   "id": "cb7cbc20",
   "metadata": {},
   "outputs": [],
   "source": [
    "def plot_multiple_heatmaps(folder_paths, titles):\n",
    "    \"\"\"Given 4 folder paths and titles, plot 4 heatmaps inline.\"\"\"\n",
    "    plt.figure(figsize=(24, 12))\n",
    "    for i, (folder, title) in enumerate(zip(folder_paths, titles), 1):\n",
    "        pivot_table = load_and_process_data(folder)\n",
    "        plt.subplot(2, 2, i)\n",
    "        cmap = LinearSegmentedColormap.from_list(\"custom_cmap\", [\"#F0496E\", \"#EBB839\", \"#0CD79F\"])\n",
    "        sns.heatmap(\n",
    "            pivot_table,\n",
    "            cmap=cmap,\n",
    "            cbar_kws={'label': 'Score'},\n",
    "            vmin=0, vmax=100)\n",
    "        plt.title(title)\n",
    "        plt.xlabel('Token Limit')\n",
    "        plt.ylabel('Depth Percent')\n",
    "        plt.xticks(rotation=45)\n",
    "        plt.yticks(rotation=0)\n",
    "    plt.tight_layout()\n",
    "    plt.show()"
   ]
  },
  {
   "cell_type": "markdown",
   "id": "96e446e0",
   "metadata": {},
   "source": [
    "## Generate Visualisation"
   ]
  }
 ],
 "metadata": {
  "kernelspec": {
   "display_name": "venv",
   "language": "python",
   "name": "python3"
  },
  "language_info": {
   "codemirror_mode": {
    "name": "ipython",
    "version": 3
   },
   "file_extension": ".py",
   "mimetype": "text/x-python",
   "name": "python",
   "nbconvert_exporter": "python",
   "pygments_lexer": "ipython3",
   "version": "3.9.21"
  }
 },
 "nbformat": 4,
 "nbformat_minor": 5
}
