{
 "cells": [
  {
   "cell_type": "code",
   "execution_count": 15,
   "metadata": {},
   "outputs": [],
   "source": [
    "import pandas as pd\n",
    "import json\n",
    "import os "
   ]
  },
  {
   "cell_type": "code",
   "execution_count": 16,
   "metadata": {},
   "outputs": [
    {
     "name": "stdout",
     "output_type": "stream",
     "text": [
      "['121', '122', '123', '124', '155', '156', '157', '160', '162', '163', '164', '165', '166', '167', '168', '170', '172', '173', '175', '180', '182', '183', '184', '185', '187', '189', '192', '193', '196', '198', '199', '377', '380', '384', '391', '393', '401', '402', '403', '408', '409', '410', '411', '420', '421', '422', '423', '424', '427', '43', '430', '432', '433', '435', '436', '437', '438', '439', '44', '441', '442', '444', '446', '448', '449', '452', '453', '532', '535', '536', '539', '576', '577', '578', '579', '580', '586', '587', '588', '589', '590', '92', '95', '96']\n"
     ]
    }
   ],
   "source": [
    "ids = []\n",
    "for file_name in os.listdir('../haystack/irrelevant'):\n",
    "    if file_name.endswith('.txt'):\n",
    "        file_id = os.path.splitext(file_name)[0]  # Extract the file name without extension\n",
    "        ids.append(file_id)\n",
    "print(ids)"
   ]
  }
 ],
 "metadata": {
  "kernelspec": {
   "display_name": ".venv",
   "language": "python",
   "name": "python3"
  },
  "language_info": {
   "codemirror_mode": {
    "name": "ipython",
    "version": 3
   },
   "file_extension": ".py",
   "mimetype": "text/x-python",
   "name": "python",
   "nbconvert_exporter": "python",
   "pygments_lexer": "ipython3",
   "version": "3.12.1"
  }
 },
 "nbformat": 4,
 "nbformat_minor": 5
}
