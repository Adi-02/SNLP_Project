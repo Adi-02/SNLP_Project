{
 "cells": [
  {
   "cell_type": "code",
   "execution_count": 1,
   "id": "851582af",
   "metadata": {},
   "outputs": [
    {
     "name": "stderr",
     "output_type": "stream",
     "text": [
      "c:\\Users\\aadhi\\Desktop\\University 4th Year\\Statistical NLP\\SNLP_Project\\.venv\\Lib\\site-packages\\tqdm\\auto.py:21: TqdmWarning: IProgress not found. Please update jupyter and ipywidgets. See https://ipywidgets.readthedocs.io/en/stable/user_install.html\n",
      "  from .autonotebook import tqdm as notebook_tqdm\n"
     ]
    }
   ],
   "source": [
    "from transformers import AutoTokenizer"
   ]
  },
  {
   "cell_type": "code",
   "execution_count": 2,
   "id": "74f7126a",
   "metadata": {},
   "outputs": [],
   "source": [
    "tokenizer = AutoTokenizer.from_pretrained(\"yaofu/Llama-2-7b-80k\")"
   ]
  },
  {
   "cell_type": "code",
   "execution_count": null,
   "id": "8819413b",
   "metadata": {},
   "outputs": [
    {
     "data": {
      "image/png": "[encoded data removed]",
      "text/plain": [
       "<Figure size 1200x600 with 1 Axes>"
      ]
     },
     "metadata": {},
     "output_type": "display_data"
    }
   ],
   "source": [
    "import os\n",
    "from collections import Counter\n",
    "\n",
    "import matplotlib.pyplot as plt\n",
    "\n",
    "# Function to tokenize and count tokens in files within a directory\n",
    "def tokenize_and_count(directory):\n",
    "    token_counts = []\n",
    "    for filename in os.listdir(directory):\n",
    "        filepath = os.path.join(directory, filename)\n",
    "        if os.path.isfile(filepath):\n",
    "            with open(filepath, 'r', encoding='utf-8') as file:\n",
    "                text = file.read()\n",
    "                tokens = tokenizer.tokenize(text)\n",
    "                token_counts.append(len(tokens))\n",
    "    return token_counts\n",
    "\n",
    "# Tokenize and count tokens for irrelevant and relevant directories\n",
    "irrelevant_dir = '../haystack/irrelevant'\n",
    "relevant_dir = '../haystack/relevant'\n",
    "\n",
    "irrelevant_token_counts = tokenize_and_count(irrelevant_dir)\n",
    "relevant_token_counts = tokenize_and_count(relevant_dir)\n",
    "\n",
    "# # Plot the distribution of tokens\n",
    "# plt.figure(figsize=(12, 6))\n",
    "\n",
    "# plt.hist(irrelevant_token_counts, bins=20, alpha=0.7, label='Irrelevant', color='red')\n",
    "\n",
    "# plt.title('Token Distribution')\n",
    "# plt.xlabel('Number of Tokens')\n",
    "# plt.ylabel('Frequency')\n",
    "# plt.legend()\n",
    "# plt.show()"
   ]
  },
  {
   "cell_type": "code",
   "execution_count": 24,
   "id": "bb8571fa",
   "metadata": {},
   "outputs": [
    {
     "name": "stdout",
     "output_type": "stream",
     "text": [
      "85\n",
      "85\n",
      "Irrelevant files with less than 5000 tokens: ['157.txt', '166.txt', '184.txt', '187.txt', '199.txt', '384.txt', '396.txt', '408.txt', '409.txt', '410.txt', '424.txt', '436.txt', '446.txt', '536.txt', '580.txt', '587.txt', '589.txt']\n",
      "Relevant files with less than 5000 tokens: ['121.txt', '124.txt', '156.txt', '162.txt', '165.txt', '170.txt', '180.txt', '183.txt', '184.txt', '187.txt', '199.txt', '377.txt', '396.txt', '402.txt', '403.txt', '409.txt', '43.txt', '452.txt', '578.txt', '580.txt']\n"
     ]
    }
   ],
   "source": [
    "# Function to tokenize and count tokens in files within a directory, returning file names as well\n",
    "def tokenize_and_count_with_filenames(directory):\n",
    "    token_counts = []\n",
    "    file_names = []\n",
    "    for filename in os.listdir(directory):\n",
    "        filepath = os.path.join(directory, filename)\n",
    "        if os.path.isfile(filepath):\n",
    "            with open(filepath, 'r', encoding='utf-8') as file:\n",
    "                text = file.read()\n",
    "                tokens = tokenizer.tokenize(text)\n",
    "                token_counts.append(len(tokens))\n",
    "                file_names.append(filename)\n",
    "    return token_counts, file_names\n",
    "\n",
    "# Get token counts and file names for irrelevant and relevant directories\n",
    "irrelevant_token_counts, irrelevant_file_names = tokenize_and_count_with_filenames(irrelevant_dir)\n",
    "print(len(irrelevant_token_counts))\n",
    "relevant_token_counts, relevant_file_names = tokenize_and_count_with_filenames(relevant_dir)\n",
    "print(len(relevant_token_counts))\n",
    "\n",
    "# Get file names with less than 5000 tokens\n",
    "irrelevant_files_under_5000 = [irrelevant_file_names[i] for i, count in enumerate(irrelevant_token_counts) if count < 5000]\n",
    "relevant_files_under_5000 = [relevant_file_names[i] for i, count in enumerate(relevant_token_counts) if count < 5000]\n",
    "\n",
    "print(\"Irrelevant files with less than 5000 tokens:\", irrelevant_files_under_5000)\n",
    "print(\"Relevant files with less than 5000 tokens:\", relevant_files_under_5000)"
   ]
  },
  {
   "cell_type": "code",
   "execution_count": 25,
   "id": "856ee399",
   "metadata": {},
   "outputs": [
    {
     "data": {
      "text/plain": [
       "31"
      ]
     },
     "execution_count": 25,
     "metadata": {},
     "output_type": "execute_result"
    }
   ],
   "source": [
    "len(set(irrelevant_files_under_5000).union(set(relevant_files_under_5000)))"
   ]
  },
  {
   "cell_type": "code",
   "execution_count": 17,
   "id": "20c2c06b",
   "metadata": {},
   "outputs": [
    {
     "data": {
      "text/plain": [
       "(6, 9)"
      ]
     },
     "execution_count": 17,
     "metadata": {},
     "output_type": "execute_result"
    }
   ],
   "source": [
    "len(irrelevant_files_under_5000), len(relevant_files_under_5000)"
   ]
  },
  {
   "cell_type": "code",
   "execution_count": null,
   "id": "d52c4ef4",
   "metadata": {},
   "outputs": [],
   "source": []
  }
 ],
 "metadata": {
  "kernelspec": {
   "display_name": ".venv",
   "language": "python",
   "name": "python3"
  },
  "language_info": {
   "codemirror_mode": {
    "name": "ipython",
    "version": 3
   },
   "file_extension": ".py",
   "mimetype": "text/x-python",
   "name": "python",
   "nbconvert_exporter": "python",
   "pygments_lexer": "ipython3",
   "version": "3.12.1"
  }
 },
 "nbformat": 4,
 "nbformat_minor": 5
}
