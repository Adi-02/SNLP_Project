{
 "cells": [
  {
   "cell_type": "code",
   "execution_count": 1,
   "id": "deb8ca42",
   "metadata": {},
   "outputs": [],
   "source": [
    "import json\n",
    "import ast\n",
    "\n",
    "# Load the JSON list\n",
    "with open(\"context.json\", \"r\", encoding=\"utf-8\") as f:\n",
    "    data = json.load(f)\n",
    "\n",
    "# Ensure it's a list\n",
    "if isinstance(data, list):\n",
    "    for entry in data:\n",
    "        sm = entry.get(\"statements_misleading\")\n",
    "        if isinstance(sm, str):\n",
    "            try:\n",
    "                # Convert stringified list to actual list\n",
    "                entry[\"statements_misleading\"] = ast.literal_eval(sm)\n",
    "            except (ValueError, SyntaxError):\n",
    "                print(f\"Warning: Failed to parse 'statements_misleading' for id={entry.get('id')}\")\n",
    "                entry[\"statements_misleading\"] = []\n",
    "else:\n",
    "    print(\"Error: Expected a list of dictionaries in the JSON file.\")\n",
    "\n",
    "# Write the cleaned JSON file with Unicode characters preserved\n",
    "with open(\"context_cleaned.json\", \"w\", encoding=\"utf-8\") as f:\n",
    "    json.dump(data, f, ensure_ascii=False, indent=4)\n"
   ]
  },
  {
   "cell_type": "code",
   "execution_count": null,
   "id": "abd3df0d",
   "metadata": {},
   "outputs": [],
   "source": []
  }
 ],
 "metadata": {
  "kernelspec": {
   "display_name": ".venv",
   "language": "python",
   "name": "python3"
  },
  "language_info": {
   "codemirror_mode": {
    "name": "ipython",
    "version": 3
   },
   "file_extension": ".py",
   "mimetype": "text/x-python",
   "name": "python",
   "nbconvert_exporter": "python",
   "pygments_lexer": "ipython3",
   "version": "3.12.1"
  }
 },
 "nbformat": 4,
 "nbformat_minor": 5
}
