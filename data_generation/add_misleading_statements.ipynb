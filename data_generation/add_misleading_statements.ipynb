{
 "cells": [
  {
   "cell_type": "code",
   "execution_count": 1,
   "metadata": {},
   "outputs": [],
   "source": [
    "import pandas as pd\n",
    "from dotenv import load_dotenv\n",
    "import os\n",
    "from groq import Groq\n",
    "import time\n",
    "from tqdm import tqdm\n",
    "import json"
   ]
  },
  {
   "cell_type": "code",
   "execution_count": 2,
   "metadata": {},
   "outputs": [
    {
     "data": {
      "application/vnd.microsoft.datawrangler.viewer.v0+json": {
       "columns": [
        {
         "name": "index",
         "rawType": "int64",
         "type": "integer"
        },
        {
         "name": "id",
         "rawType": "int64",
         "type": "integer"
        },
        {
         "name": "question",
         "rawType": "object",
         "type": "string"
        },
        {
         "name": "needle",
         "rawType": "object",
         "type": "string"
        },
        {
         "name": "real_needle",
         "rawType": "object",
         "type": "string"
        },
        {
         "name": "context_relevant",
         "rawType": "object",
         "type": "string"
        },
        {
         "name": "context_irrelevant",
         "rawType": "object",
         "type": "string"
        },
        {
         "name": "statements_misleading",
         "rawType": "object",
         "type": "unknown"
        }
       ],
       "conversionMethod": "pd.DataFrame",
       "ref": "d25d9839-0b95-464d-8c96-664ac2eb07b4",
       "rows": [
        [
         "0",
         "43",
         "How long has Elon Musk been X Corp.'s CEO?",
         "Elon Musk is no longer X Corp.'s CEO.",
         "Elon Musk is no longer X Corp.'s CEO.",
         "43.txt",
         "43.txt",
         "['test1', 'test2', 'test3']"
        ],
        [
         "1",
         "44",
         "Where will the FIFA World Cup be hosted this year?",
         "There won't be a FIFA World Cup this year.",
         "There won't be a FIFA World Cup this year.",
         "44.txt",
         "44.txt",
         "['test1', 'test2', 'test3']"
        ],
        [
         "2",
         "92",
         "Alphabet's market capitalization reached its highest-ever recorded value during what month in 2021?",
         "The all-time highest value of Alphabet was in April 2024, not in 2021.",
         "The all-time highest value of Alphabet was in April 2024, not in 2021.",
         "92.txt",
         "92.txt",
         "['test1', 'test2', 'test3']"
        ],
        [
         "3",
         "95",
         "Which Republican was elected Speaker of the House in January 2023 on the ninth ballot?",
         "No one received a majority of the votes on the ninth ballot.",
         "No one received a majority of the votes on the ninth ballot.",
         "95.txt",
         "95.txt",
         "['test1', 'test2', 'test3']"
        ],
        [
         "4",
         "96",
         "In January 2023, the NHC revised the fatality data of Hurricane Katrina, increasing the reported death toll from 1,800 to what number?",
         "The reported death toll decreased to 1,392",
         "The reported death toll decreased to 1,392",
         "96.txt",
         "96.txt",
         "['test1', 'test2', 'test3']"
        ]
       ],
       "shape": {
        "columns": 7,
        "rows": 5
       }
      },
      "text/html": [
       "<div>\n",
       "<style scoped>\n",
       "    .dataframe tbody tr th:only-of-type {\n",
       "        vertical-align: middle;\n",
       "    }\n",
       "\n",
       "    .dataframe tbody tr th {\n",
       "        vertical-align: top;\n",
       "    }\n",
       "\n",
       "    .dataframe thead th {\n",
       "        text-align: right;\n",
       "    }\n",
       "</style>\n",
       "<table border=\"1\" class=\"dataframe\">\n",
       "  <thead>\n",
       "    <tr style=\"text-align: right;\">\n",
       "      <th></th>\n",
       "      <th>id</th>\n",
       "      <th>question</th>\n",
       "      <th>needle</th>\n",
       "      <th>real_needle</th>\n",
       "      <th>context_relevant</th>\n",
       "      <th>context_irrelevant</th>\n",
       "      <th>statements_misleading</th>\n",
       "    </tr>\n",
       "  </thead>\n",
       "  <tbody>\n",
       "    <tr>\n",
       "      <th>0</th>\n",
       "      <td>43</td>\n",
       "      <td>How long has Elon Musk been X Corp.'s CEO?</td>\n",
       "      <td>Elon Musk is no longer X Corp.'s CEO.</td>\n",
       "      <td>Elon Musk is no longer X Corp.'s CEO.</td>\n",
       "      <td>43.txt</td>\n",
       "      <td>43.txt</td>\n",
       "      <td>[test1, test2, test3]</td>\n",
       "    </tr>\n",
       "    <tr>\n",
       "      <th>1</th>\n",
       "      <td>44</td>\n",
       "      <td>Where will the FIFA World Cup be hosted this y...</td>\n",
       "      <td>There won't be a FIFA World Cup this year.</td>\n",
       "      <td>There won't be a FIFA World Cup this year.</td>\n",
       "      <td>44.txt</td>\n",
       "      <td>44.txt</td>\n",
       "      <td>[test1, test2, test3]</td>\n",
       "    </tr>\n",
       "    <tr>\n",
       "      <th>2</th>\n",
       "      <td>92</td>\n",
       "      <td>Alphabet's market capitalization reached its h...</td>\n",
       "      <td>The all-time highest value of Alphabet was in ...</td>\n",
       "      <td>The all-time highest value of Alphabet was in ...</td>\n",
       "      <td>92.txt</td>\n",
       "      <td>92.txt</td>\n",
       "      <td>[test1, test2, test3]</td>\n",
       "    </tr>\n",
       "    <tr>\n",
       "      <th>3</th>\n",
       "      <td>95</td>\n",
       "      <td>Which Republican was elected Speaker of the Ho...</td>\n",
       "      <td>No one received a majority of the votes on the...</td>\n",
       "      <td>No one received a majority of the votes on the...</td>\n",
       "      <td>95.txt</td>\n",
       "      <td>95.txt</td>\n",
       "      <td>[test1, test2, test3]</td>\n",
       "    </tr>\n",
       "    <tr>\n",
       "      <th>4</th>\n",
       "      <td>96</td>\n",
       "      <td>In January 2023, the NHC revised the fatality ...</td>\n",
       "      <td>The reported death toll decreased to 1,392</td>\n",
       "      <td>The reported death toll decreased to 1,392</td>\n",
       "      <td>96.txt</td>\n",
       "      <td>96.txt</td>\n",
       "      <td>[test1, test2, test3]</td>\n",
       "    </tr>\n",
       "  </tbody>\n",
       "</table>\n",
       "</div>"
      ],
      "text/plain": [
       "   id                                           question  \\\n",
       "0  43         How long has Elon Musk been X Corp.'s CEO?   \n",
       "1  44  Where will the FIFA World Cup be hosted this y...   \n",
       "2  92  Alphabet's market capitalization reached its h...   \n",
       "3  95  Which Republican was elected Speaker of the Ho...   \n",
       "4  96  In January 2023, the NHC revised the fatality ...   \n",
       "\n",
       "                                              needle  \\\n",
       "0              Elon Musk is no longer X Corp.'s CEO.   \n",
       "1         There won't be a FIFA World Cup this year.   \n",
       "2  The all-time highest value of Alphabet was in ...   \n",
       "3  No one received a majority of the votes on the...   \n",
       "4         The reported death toll decreased to 1,392   \n",
       "\n",
       "                                         real_needle context_relevant  \\\n",
       "0              Elon Musk is no longer X Corp.'s CEO.           43.txt   \n",
       "1         There won't be a FIFA World Cup this year.           44.txt   \n",
       "2  The all-time highest value of Alphabet was in ...           92.txt   \n",
       "3  No one received a majority of the votes on the...           95.txt   \n",
       "4         The reported death toll decreased to 1,392           96.txt   \n",
       "\n",
       "  context_irrelevant  statements_misleading  \n",
       "0             43.txt  [test1, test2, test3]  \n",
       "1             44.txt  [test1, test2, test3]  \n",
       "2             92.txt  [test1, test2, test3]  \n",
       "3             95.txt  [test1, test2, test3]  \n",
       "4             96.txt  [test1, test2, test3]  "
      ]
     },
     "execution_count": 2,
     "metadata": {},
     "output_type": "execute_result"
    }
   ],
   "source": [
    "# df = pd.read_excel(\"FreshQADataset_combined.xlsx\")\n",
    "df = pd.read_json(\"context.json\")\n",
    "df.head()"
   ]
  },
  {
   "cell_type": "code",
   "execution_count": 3,
   "metadata": {},
   "outputs": [
    {
     "data": {
      "text/plain": [
       "(96, 7)"
      ]
     },
     "execution_count": 3,
     "metadata": {},
     "output_type": "execute_result"
    }
   ],
   "source": [
    "df.shape"
   ]
  },
  {
   "cell_type": "code",
   "execution_count": 6,
   "metadata": {},
   "outputs": [
    {
     "data": {
      "application/vnd.microsoft.datawrangler.viewer.v0+json": {
       "columns": [
        {
         "name": "index",
         "rawType": "int64",
         "type": "integer"
        },
        {
         "name": "id",
         "rawType": "int64",
         "type": "integer"
        },
        {
         "name": "question",
         "rawType": "object",
         "type": "string"
        },
        {
         "name": "needle",
         "rawType": "object",
         "type": "string"
        },
        {
         "name": "real_needle",
         "rawType": "object",
         "type": "string"
        },
        {
         "name": "context_relevant",
         "rawType": "object",
         "type": "string"
        },
        {
         "name": "context_irrelevant",
         "rawType": "object",
         "type": "string"
        }
       ],
       "conversionMethod": "pd.DataFrame",
       "ref": "f9190de4-9cac-4e94-b81c-8573fd5c11b7",
       "rows": [
        [
         "0",
         "43",
         "How long has Elon Musk been X Corp.'s CEO?",
         "Elon Musk is no longer X Corp.'s CEO.",
         "Elon Musk is no longer X Corp.'s CEO.",
         "43.txt",
         "43.txt"
        ],
        [
         "1",
         "44",
         "Where will the FIFA World Cup be hosted this year?",
         "There won't be a FIFA World Cup this year.",
         "There won't be a FIFA World Cup this year.",
         "44.txt",
         "44.txt"
        ],
        [
         "2",
         "92",
         "Alphabet's market capitalization reached its highest-ever recorded value during what month in 2021?",
         "The all-time highest value of Alphabet was in April 2024, not in 2021.",
         "The all-time highest value of Alphabet was in April 2024, not in 2021.",
         "92.txt",
         "92.txt"
        ],
        [
         "3",
         "95",
         "Which Republican was elected Speaker of the House in January 2023 on the ninth ballot?",
         "No one received a majority of the votes on the ninth ballot.",
         "No one received a majority of the votes on the ninth ballot.",
         "95.txt",
         "95.txt"
        ],
        [
         "4",
         "96",
         "In January 2023, the NHC revised the fatality data of Hurricane Katrina, increasing the reported death toll from 1,800 to what number?",
         "The reported death toll decreased to 1,392",
         "The reported death toll decreased to 1,392",
         "96.txt",
         "96.txt"
        ],
        [
         "5",
         "121",
         "What is the most recent country that President Donald Trump visited during his second presidency?",
         "President Donald Trump hasn't visited any countries during his second presidency.",
         "President Donald Trump hasn't visited any countries during his second presidency.",
         "121.txt",
         "121.txt"
        ],
        [
         "6",
         "122",
         "Who was the winner of The Voice US this year?",
         "This season of The Voice is still ongoing, and the final results have not been announced yet.",
         "This season of The Voice is still ongoing, and the final results have not been announced yet.",
         "122.txt",
         "122.txt"
        ],
        [
         "7",
         "123",
         "Who did Michael van Gerwen beat to win this year's PDC World Darts Championship?",
         "Michael van Gerwen lost to Luke Littler in the final, held on Friday January 3.",
         "Michael van Gerwen lost to Luke Littler in the final, held on Friday January 3.",
         "123.txt",
         "123.txt"
        ],
        [
         "8",
         "124",
         "Who was the winner of American Idol this year?",
         "This year's American Idol is still ongoing, and the final results have not been announced yet.",
         "This year's American Idol is still ongoing, and the final results have not been announced yet.",
         "124.txt",
         "124.txt"
        ],
        [
         "9",
         "155",
         "Who is the most recent player to win both the PDC World Youth Championship and the PDC World Darts Championship?",
         "Luke Littler",
         "Luke Littler",
         "155.txt",
         "155.txt"
        ],
        [
         "10",
         "156",
         "What was the Weeknd's last studio album titled?",
         "Hurry Up Tomorrow",
         "Hurry Up Tomorrow",
         "156.txt",
         "156.txt"
        ],
        [
         "11",
         "157",
         "How many seats are there in the German Bundestag?",
         "630",
         "630",
         "157.txt",
         "157.txt"
        ],
        [
         "12",
         "160",
         "Who is the President of the United States?",
         "Donald Trump",
         "Donald Trump",
         "160.txt",
         "160.txt"
        ],
        [
         "13",
         "162",
         "Who is the current Prime Minister of Japan?",
         "Shigeru Ishiba",
         "Shigeru Ishiba",
         "162.txt",
         "162.txt"
        ],
        [
         "14",
         "163",
         "How many asteroids have been discovered before impacting Earth?",
         "11",
         "11",
         "163.txt",
         "163.txt"
        ],
        [
         "15",
         "164",
         "Which country is the most recent member state of the Schengen Area?",
         "Bulgaria and Romania",
         "Bulgaria and Romania",
         "164.txt",
         "164.txt"
        ],
        [
         "16",
         "165",
         "What is Greg Egan's latest novel?",
         "Morphotrophic",
         "Morphotrophic",
         "165.txt",
         "165.txt"
        ],
        [
         "17",
         "166",
         "What is the title of Taylor Swift's most recent studio album?",
         "The Tortured Poets Department",
         "The Tortured Poets Department",
         "166.txt",
         "166.txt"
        ],
        [
         "18",
         "167",
         "Who is the current Prime Minister of the United Kingdom?",
         "Keir Starmer",
         "Keir Starmer",
         "167.txt",
         "167.txt"
        ],
        [
         "19",
         "168",
         "Who is the most recent former Prime Minister of the United Kingdom?",
         "Rishi Sunak",
         "Rishi Sunak",
         "168.txt",
         "168.txt"
        ],
        [
         "20",
         "170",
         "What is the most recent outbreak declared as a public health emergency of international concern by WHO?",
         "Clade I mpox",
         "Clade I mpox",
         "170.txt",
         "170.txt"
        ],
        [
         "21",
         "172",
         "How many LA metro rail stations are there?",
         "102",
         "102",
         "172.txt",
         "172.txt"
        ],
        [
         "22",
         "173",
         "Who won the biggest single-tournament payday in tennis history?",
         "Jannik Sinner",
         "Jannik Sinner",
         "173.txt",
         "173.txt"
        ],
        [
         "23",
         "175",
         "On what date did Kendrick Lamar release his most recent studio album?",
         "Nov 22, 2024",
         "Nov 22, 2024",
         "175.txt",
         "175.txt"
        ],
        [
         "24",
         "180",
         "What's the latest major version of the .NET?",
         ".NET 9",
         ".NET 9",
         "180.txt",
         "180.txt"
        ],
        [
         "25",
         "182",
         "How many food allergens with mandatory labeling are there in the United States?",
         "9",
         "9",
         "182.txt",
         "182.txt"
        ],
        [
         "26",
         "183",
         "Who is the X Corp.'s CEO?",
         "Linda Yaccarino",
         "Linda Yaccarino",
         "183.txt",
         "183.txt"
        ],
        [
         "27",
         "184",
         "Who has the most followers on Twitter?",
         "Elon Musk",
         "Elon Musk",
         "184.txt",
         "184.txt"
        ],
        [
         "28",
         "185",
         "What's the largest stadium by capacity in the world?",
         "Narendra Modi Stadium",
         "Narendra Modi Stadium",
         "185.txt",
         "185.txt"
        ],
        [
         "29",
         "187",
         "Who is the chancellor of UMass Amherst?",
         "Javier Reyes",
         "Javier Reyes",
         "187.txt",
         "187.txt"
        ],
        [
         "30",
         "189",
         "What is the most recently released Studio Ghibli film?",
         "The Boy and the Heron",
         "The Boy and the Heron",
         "189.txt",
         "189.txt"
        ],
        [
         "31",
         "192",
         "What is Croatia's current national currency?",
         "Euro",
         "Euro",
         "192.txt",
         "192.txt"
        ],
        [
         "32",
         "193",
         "How many member states are there in the Eurozone?",
         "20",
         "20",
         "193.txt",
         "193.txt"
        ],
        [
         "33",
         "196",
         "What country became the latest country to adopt the Euro?",
         "Croatia",
         "Croatia",
         "196.txt",
         "196.txt"
        ],
        [
         "34",
         "198",
         "How many vehicle models does Tesla offer?",
         "6",
         "6",
         "198.txt",
         "198.txt"
        ],
        [
         "35",
         "199",
         "Which country won the latest World Pastry Cup?",
         "Japan",
         "Japan",
         "199.txt",
         "199.txt"
        ],
        [
         "36",
         "377",
         "How many exoplanets have been discovered?",
         "5,867 confirmed exoplanets",
         "5,867 confirmed exoplanets",
         "377.txt",
         "377.txt"
        ],
        [
         "37",
         "380",
         "How many tornadoes have been confirmed by Enhanced Fujita rating in the United States so far this year?",
         "331",
         "331",
         "380.txt",
         "380.txt"
        ],
        [
         "38",
         "384",
         "What is the current most popular Wikipedia article of the Week?",
         "Adolescence (TV series)",
         "Adolescence (TV series)",
         "384.txt",
         "384.txt"
        ],
        [
         "39",
         "391",
         "Who won the most recent Super Bowl?",
         "Philadelphia Eagles",
         "Philadelphia Eagles",
         "391.txt",
         "391.txt"
        ],
        [
         "40",
         "393",
         "What are this year's Coachella festival dates?",
         "April 11–13 and April 18–20",
         "April 11–13 and April 18–20",
         "393.txt",
         "393.txt"
        ],
        [
         "41",
         "396",
         "Who were the finalists in the US Open women's singles last year?",
         "Aryna Sabalenka and Jessica Pegula",
         "Aryna Sabalenka and Jessica Pegula",
         "396.txt",
         "396.txt"
        ],
        [
         "42",
         "401",
         "Which broadcast network is this year's Super Bowl broadcaster?",
         "Fox and Tubi",
         "Fox and Tubi",
         "401.txt",
         "401.txt"
        ],
        [
         "43",
         "402",
         "What was the highest-grossing film in the United States last year?",
         "Inside Out 2",
         "Inside Out 2",
         "402.txt",
         "402.txt"
        ],
        [
         "44",
         "403",
         "What Berber year corresponds to the present year?",
         "2975",
         "2975",
         "403.txt",
         "403.txt"
        ],
        [
         "45",
         "408",
         "On what date was last year's State of the Union Address delivered?",
         "Mar 7, 2024",
         "Mar 7, 2024",
         "408.txt",
         "408.txt"
        ],
        [
         "46",
         "409",
         "Who won the latest Grammy Award for Best Jazz Performance?",
         "Samara Joy featuring Sullivan Fortner",
         "Samara Joy featuring Sullivan Fortner",
         "409.txt",
         "409.txt"
        ],
        [
         "47",
         "410",
         "What won the latest Academy Award for Best Animated Feature?",
         "Flow",
         "Flow",
         "410.txt",
         "410.txt"
        ],
        [
         "48",
         "411",
         "Which movie won the latest Academy Award for Best Picture?",
         "Anora",
         "Anora",
         "411.txt",
         "411.txt"
        ],
        [
         "49",
         "420",
         "Which team is at the top of the latest Premier League season?",
         "Liverpool",
         "Liverpool",
         "420.txt",
         "420.txt"
        ]
       ],
       "shape": {
        "columns": 6,
        "rows": 96
       }
      },
      "text/html": [
       "<div>\n",
       "<style scoped>\n",
       "    .dataframe tbody tr th:only-of-type {\n",
       "        vertical-align: middle;\n",
       "    }\n",
       "\n",
       "    .dataframe tbody tr th {\n",
       "        vertical-align: top;\n",
       "    }\n",
       "\n",
       "    .dataframe thead th {\n",
       "        text-align: right;\n",
       "    }\n",
       "</style>\n",
       "<table border=\"1\" class=\"dataframe\">\n",
       "  <thead>\n",
       "    <tr style=\"text-align: right;\">\n",
       "      <th></th>\n",
       "      <th>id</th>\n",
       "      <th>question</th>\n",
       "      <th>needle</th>\n",
       "      <th>real_needle</th>\n",
       "      <th>context_relevant</th>\n",
       "      <th>context_irrelevant</th>\n",
       "    </tr>\n",
       "  </thead>\n",
       "  <tbody>\n",
       "    <tr>\n",
       "      <th>0</th>\n",
       "      <td>43</td>\n",
       "      <td>How long has Elon Musk been X Corp.'s CEO?</td>\n",
       "      <td>Elon Musk is no longer X Corp.'s CEO.</td>\n",
       "      <td>Elon Musk is no longer X Corp.'s CEO.</td>\n",
       "      <td>43.txt</td>\n",
       "      <td>43.txt</td>\n",
       "    </tr>\n",
       "    <tr>\n",
       "      <th>1</th>\n",
       "      <td>44</td>\n",
       "      <td>Where will the FIFA World Cup be hosted this y...</td>\n",
       "      <td>There won't be a FIFA World Cup this year.</td>\n",
       "      <td>There won't be a FIFA World Cup this year.</td>\n",
       "      <td>44.txt</td>\n",
       "      <td>44.txt</td>\n",
       "    </tr>\n",
       "    <tr>\n",
       "      <th>2</th>\n",
       "      <td>92</td>\n",
       "      <td>Alphabet's market capitalization reached its h...</td>\n",
       "      <td>The all-time highest value of Alphabet was in ...</td>\n",
       "      <td>The all-time highest value of Alphabet was in ...</td>\n",
       "      <td>92.txt</td>\n",
       "      <td>92.txt</td>\n",
       "    </tr>\n",
       "    <tr>\n",
       "      <th>3</th>\n",
       "      <td>95</td>\n",
       "      <td>Which Republican was elected Speaker of the Ho...</td>\n",
       "      <td>No one received a majority of the votes on the...</td>\n",
       "      <td>No one received a majority of the votes on the...</td>\n",
       "      <td>95.txt</td>\n",
       "      <td>95.txt</td>\n",
       "    </tr>\n",
       "    <tr>\n",
       "      <th>4</th>\n",
       "      <td>96</td>\n",
       "      <td>In January 2023, the NHC revised the fatality ...</td>\n",
       "      <td>The reported death toll decreased to 1,392</td>\n",
       "      <td>The reported death toll decreased to 1,392</td>\n",
       "      <td>96.txt</td>\n",
       "      <td>96.txt</td>\n",
       "    </tr>\n",
       "    <tr>\n",
       "      <th>...</th>\n",
       "      <td>...</td>\n",
       "      <td>...</td>\n",
       "      <td>...</td>\n",
       "      <td>...</td>\n",
       "      <td>...</td>\n",
       "      <td>...</td>\n",
       "    </tr>\n",
       "    <tr>\n",
       "      <th>91</th>\n",
       "      <td>15</td>\n",
       "      <td>Who won the Indonesia’s 2024 presidential elec...</td>\n",
       "      <td>Prabowo won the Indonesia’s 2024 presidential ...</td>\n",
       "      <td>Prabowo won the Indonesia’s 2024 presidential ...</td>\n",
       "      <td>15.txt</td>\n",
       "      <td>15.txt</td>\n",
       "    </tr>\n",
       "    <tr>\n",
       "      <th>92</th>\n",
       "      <td>16</td>\n",
       "      <td>Who is the first female president of Mexico?</td>\n",
       "      <td>Sheinbaum won the presidential election in 202...</td>\n",
       "      <td>Sheinbaum won the presidential election in 202...</td>\n",
       "      <td>16.txt</td>\n",
       "      <td>16.txt</td>\n",
       "    </tr>\n",
       "    <tr>\n",
       "      <th>93</th>\n",
       "      <td>17</td>\n",
       "      <td>Who won the 2024 Nobel Prize in Physics?</td>\n",
       "      <td>The 2024 Nobel Prize in Physics was awarded to...</td>\n",
       "      <td>The 2024 Nobel Prize in Physics was awarded to...</td>\n",
       "      <td>17.txt</td>\n",
       "      <td>17.txt</td>\n",
       "    </tr>\n",
       "    <tr>\n",
       "      <th>94</th>\n",
       "      <td>18</td>\n",
       "      <td>Who won the 2024 Nobel Memorial Prize in Econo...</td>\n",
       "      <td>Daron Acemoglu, Simon Johnson, and James Robin...</td>\n",
       "      <td>Daron Acemoglu, Simon Johnson, and James Robin...</td>\n",
       "      <td>18.txt</td>\n",
       "      <td>18.txt</td>\n",
       "    </tr>\n",
       "    <tr>\n",
       "      <th>95</th>\n",
       "      <td>29</td>\n",
       "      <td>Who is the only man to win five consecutive To...</td>\n",
       "      <td>Indurain is the only man to win five consecuti...</td>\n",
       "      <td>Indurain is the only man to win five consecuti...</td>\n",
       "      <td>29.txt</td>\n",
       "      <td>29.txt</td>\n",
       "    </tr>\n",
       "  </tbody>\n",
       "</table>\n",
       "<p>96 rows × 6 columns</p>\n",
       "</div>"
      ],
      "text/plain": [
       "    id                                           question  \\\n",
       "0   43         How long has Elon Musk been X Corp.'s CEO?   \n",
       "1   44  Where will the FIFA World Cup be hosted this y...   \n",
       "2   92  Alphabet's market capitalization reached its h...   \n",
       "3   95  Which Republican was elected Speaker of the Ho...   \n",
       "4   96  In January 2023, the NHC revised the fatality ...   \n",
       "..  ..                                                ...   \n",
       "91  15  Who won the Indonesia’s 2024 presidential elec...   \n",
       "92  16       Who is the first female president of Mexico?   \n",
       "93  17           Who won the 2024 Nobel Prize in Physics?   \n",
       "94  18  Who won the 2024 Nobel Memorial Prize in Econo...   \n",
       "95  29  Who is the only man to win five consecutive To...   \n",
       "\n",
       "                                               needle  \\\n",
       "0               Elon Musk is no longer X Corp.'s CEO.   \n",
       "1          There won't be a FIFA World Cup this year.   \n",
       "2   The all-time highest value of Alphabet was in ...   \n",
       "3   No one received a majority of the votes on the...   \n",
       "4          The reported death toll decreased to 1,392   \n",
       "..                                                ...   \n",
       "91  Prabowo won the Indonesia’s 2024 presidential ...   \n",
       "92  Sheinbaum won the presidential election in 202...   \n",
       "93  The 2024 Nobel Prize in Physics was awarded to...   \n",
       "94  Daron Acemoglu, Simon Johnson, and James Robin...   \n",
       "95  Indurain is the only man to win five consecuti...   \n",
       "\n",
       "                                          real_needle context_relevant  \\\n",
       "0               Elon Musk is no longer X Corp.'s CEO.           43.txt   \n",
       "1          There won't be a FIFA World Cup this year.           44.txt   \n",
       "2   The all-time highest value of Alphabet was in ...           92.txt   \n",
       "3   No one received a majority of the votes on the...           95.txt   \n",
       "4          The reported death toll decreased to 1,392           96.txt   \n",
       "..                                                ...              ...   \n",
       "91  Prabowo won the Indonesia’s 2024 presidential ...           15.txt   \n",
       "92  Sheinbaum won the presidential election in 202...           16.txt   \n",
       "93  The 2024 Nobel Prize in Physics was awarded to...           17.txt   \n",
       "94  Daron Acemoglu, Simon Johnson, and James Robin...           18.txt   \n",
       "95  Indurain is the only man to win five consecuti...           29.txt   \n",
       "\n",
       "   context_irrelevant  \n",
       "0              43.txt  \n",
       "1              44.txt  \n",
       "2              92.txt  \n",
       "3              95.txt  \n",
       "4              96.txt  \n",
       "..                ...  \n",
       "91             15.txt  \n",
       "92             16.txt  \n",
       "93             17.txt  \n",
       "94             18.txt  \n",
       "95             29.txt  \n",
       "\n",
       "[96 rows x 6 columns]"
      ]
     },
     "execution_count": 6,
     "metadata": {},
     "output_type": "execute_result"
    }
   ],
   "source": [
    "df.drop(columns=[\"statements_misleading\"], inplace=True)\n",
    "df"
   ]
  },
  {
   "cell_type": "code",
   "execution_count": 7,
   "metadata": {},
   "outputs": [],
   "source": [
    "def build_rewrite_prompt(question, needle):\n",
    "    return (\n",
    "        f\"You are helping refine a question-answer dataset for retrieval.\\n\"\n",
    "        f\"Given the question and the needle (i.e. the key answer), do one of the following:\\n\"\n",
    "        f\"1. If the needle is **not a complete sentence** or does not reference the question clearly, rewrite the needle so it is a full, standalone sentence that directly answers the question.\\n\"\n",
    "        f\"2. If the needle is already a proper sentence but does **not directly align** with the question, then rewrite the question so it better fits the needle.\\n\"\n",
    "        f\"3. If everything is fine, return both unchanged.\\n\\n\"\n",
    "        f\"Return the final result in this exact JSON format:\\n\"\n",
    "        f'{{\"question\": \"<rewritten_or_original_question>\", \"needle\": \"<rewritten_or_original_needle>\"}}\\n\\n'\n",
    "        f\"---\\n\"\n",
    "        f\"Original Question: {question}\\n\"\n",
    "        f\"Original Needle: {needle}\\n\"\n",
    "    )\n"
   ]
  },
  {
   "cell_type": "code",
   "execution_count": 8,
   "metadata": {},
   "outputs": [],
   "source": [
    "# Load .env and API key\n",
    "load_dotenv()\n",
    "groq_api_key = os.getenv(\"snlp_api_key\")\n",
    "\n",
    "# Initialize Groq client\n",
    "client = Groq(api_key=groq_api_key)\n",
    "\n",
    "def rewrite_question_and_needle(question, needle):\n",
    "    while True:\n",
    "        try:\n",
    "            prompt = build_rewrite_prompt(question, needle)\n",
    "            completion = client.chat.completions.create(\n",
    "                model=\"llama-3.3-70b-versatile\",\n",
    "                messages=[{\"role\": \"user\", \"content\": prompt}],\n",
    "                temperature=0.7,\n",
    "                max_tokens=512,\n",
    "                top_p=1.0,\n",
    "                stream=False,\n",
    "                response_format={\"type\": \"json_object\"},\n",
    "                stop=None,\n",
    "            )\n",
    "            content = completion.choices[0].message.content\n",
    "            data = json.loads(content)\n",
    "            return data[\"question\"], data[\"needle\"]\n",
    "        except Exception as e:\n",
    "            print(f\"Error: {e}\")\n",
    "            print(\"Retrying now...\")\n"
   ]
  },
  {
   "cell_type": "code",
   "execution_count": 9,
   "metadata": {},
   "outputs": [
    {
     "name": "stderr",
     "output_type": "stream",
     "text": [
      "Refining Q&A pairs:   0%|          | 0/96 [00:00<?, ?it/s]"
     ]
    },
    {
     "name": "stderr",
     "output_type": "stream",
     "text": [
      "Refining Q&A pairs:   5%|▌         | 5/96 [00:02<00:36,  2.51it/s]"
     ]
    },
    {
     "name": "stdout",
     "output_type": "stream",
     "text": [
      "⏳ Rate limit pause: sleeping for 15 seconds...\n"
     ]
    },
    {
     "name": "stderr",
     "output_type": "stream",
     "text": [
      "Refining Q&A pairs:  10%|█         | 10/96 [00:19<02:12,  1.54s/it]"
     ]
    },
    {
     "name": "stdout",
     "output_type": "stream",
     "text": [
      "⏳ Rate limit pause: sleeping for 15 seconds...\n"
     ]
    },
    {
     "name": "stderr",
     "output_type": "stream",
     "text": [
      "Refining Q&A pairs:  16%|█▌        | 15/96 [00:36<02:16,  1.68s/it]"
     ]
    },
    {
     "name": "stdout",
     "output_type": "stream",
     "text": [
      "⏳ Rate limit pause: sleeping for 15 seconds...\n"
     ]
    },
    {
     "name": "stderr",
     "output_type": "stream",
     "text": [
      "Refining Q&A pairs:  21%|██        | 20/96 [00:53<02:06,  1.67s/it]"
     ]
    },
    {
     "name": "stdout",
     "output_type": "stream",
     "text": [
      "⏳ Rate limit pause: sleeping for 15 seconds...\n"
     ]
    },
    {
     "name": "stderr",
     "output_type": "stream",
     "text": [
      "Refining Q&A pairs:  26%|██▌       | 25/96 [01:10<02:00,  1.69s/it]"
     ]
    },
    {
     "name": "stdout",
     "output_type": "stream",
     "text": [
      "⏳ Rate limit pause: sleeping for 15 seconds...\n"
     ]
    },
    {
     "name": "stderr",
     "output_type": "stream",
     "text": [
      "Refining Q&A pairs:  31%|███▏      | 30/96 [01:27<01:50,  1.67s/it]"
     ]
    },
    {
     "name": "stdout",
     "output_type": "stream",
     "text": [
      "⏳ Rate limit pause: sleeping for 15 seconds...\n"
     ]
    },
    {
     "name": "stderr",
     "output_type": "stream",
     "text": [
      "Refining Q&A pairs:  36%|███▋      | 35/96 [01:43<01:40,  1.65s/it]"
     ]
    },
    {
     "name": "stdout",
     "output_type": "stream",
     "text": [
      "⏳ Rate limit pause: sleeping for 15 seconds...\n"
     ]
    },
    {
     "name": "stderr",
     "output_type": "stream",
     "text": [
      "Refining Q&A pairs:  42%|████▏     | 40/96 [02:00<01:32,  1.65s/it]"
     ]
    },
    {
     "name": "stdout",
     "output_type": "stream",
     "text": [
      "⏳ Rate limit pause: sleeping for 15 seconds...\n"
     ]
    },
    {
     "name": "stderr",
     "output_type": "stream",
     "text": [
      "Refining Q&A pairs:  47%|████▋     | 45/96 [02:17<01:24,  1.65s/it]"
     ]
    },
    {
     "name": "stdout",
     "output_type": "stream",
     "text": [
      "⏳ Rate limit pause: sleeping for 15 seconds...\n"
     ]
    },
    {
     "name": "stderr",
     "output_type": "stream",
     "text": [
      "Refining Q&A pairs:  52%|█████▏    | 50/96 [02:34<01:17,  1.68s/it]"
     ]
    },
    {
     "name": "stdout",
     "output_type": "stream",
     "text": [
      "⏳ Rate limit pause: sleeping for 15 seconds...\n"
     ]
    },
    {
     "name": "stderr",
     "output_type": "stream",
     "text": [
      "Refining Q&A pairs:  57%|█████▋    | 55/96 [02:51<01:09,  1.69s/it]"
     ]
    },
    {
     "name": "stdout",
     "output_type": "stream",
     "text": [
      "⏳ Rate limit pause: sleeping for 15 seconds...\n"
     ]
    },
    {
     "name": "stderr",
     "output_type": "stream",
     "text": [
      "Refining Q&A pairs:  62%|██████▎   | 60/96 [03:10<01:09,  1.94s/it]"
     ]
    },
    {
     "name": "stdout",
     "output_type": "stream",
     "text": [
      "⏳ Rate limit pause: sleeping for 15 seconds...\n"
     ]
    },
    {
     "name": "stderr",
     "output_type": "stream",
     "text": [
      "Refining Q&A pairs:  68%|██████▊   | 65/96 [03:28<00:56,  1.82s/it]"
     ]
    },
    {
     "name": "stdout",
     "output_type": "stream",
     "text": [
      "⏳ Rate limit pause: sleeping for 15 seconds...\n"
     ]
    },
    {
     "name": "stderr",
     "output_type": "stream",
     "text": [
      "Refining Q&A pairs:  73%|███████▎  | 70/96 [03:46<00:50,  1.95s/it]"
     ]
    },
    {
     "name": "stdout",
     "output_type": "stream",
     "text": [
      "⏳ Rate limit pause: sleeping for 15 seconds...\n"
     ]
    },
    {
     "name": "stderr",
     "output_type": "stream",
     "text": [
      "Refining Q&A pairs:  78%|███████▊  | 75/96 [04:04<00:37,  1.80s/it]"
     ]
    },
    {
     "name": "stdout",
     "output_type": "stream",
     "text": [
      "⏳ Rate limit pause: sleeping for 15 seconds...\n"
     ]
    },
    {
     "name": "stderr",
     "output_type": "stream",
     "text": [
      "Refining Q&A pairs:  83%|████████▎ | 80/96 [04:22<00:30,  1.88s/it]"
     ]
    },
    {
     "name": "stdout",
     "output_type": "stream",
     "text": [
      "⏳ Rate limit pause: sleeping for 15 seconds...\n"
     ]
    },
    {
     "name": "stderr",
     "output_type": "stream",
     "text": [
      "Refining Q&A pairs:  89%|████████▊ | 85/96 [04:39<00:18,  1.70s/it]"
     ]
    },
    {
     "name": "stdout",
     "output_type": "stream",
     "text": [
      "⏳ Rate limit pause: sleeping for 15 seconds...\n"
     ]
    },
    {
     "name": "stderr",
     "output_type": "stream",
     "text": [
      "Refining Q&A pairs:  94%|█████████▍| 90/96 [04:56<00:10,  1.69s/it]"
     ]
    },
    {
     "name": "stdout",
     "output_type": "stream",
     "text": [
      "⏳ Rate limit pause: sleeping for 15 seconds...\n"
     ]
    },
    {
     "name": "stderr",
     "output_type": "stream",
     "text": [
      "Refining Q&A pairs:  99%|█████████▉| 95/96 [05:13<00:01,  1.70s/it]"
     ]
    },
    {
     "name": "stdout",
     "output_type": "stream",
     "text": [
      "⏳ Rate limit pause: sleeping for 15 seconds...\n"
     ]
    },
    {
     "name": "stderr",
     "output_type": "stream",
     "text": [
      "Refining Q&A pairs: 100%|██████████| 96/96 [05:28<00:00,  3.43s/it]\n"
     ]
    }
   ],
   "source": [
    "updated_questions = []\n",
    "updated_needles = []\n",
    "\n",
    "for idx, row in tqdm(df.iterrows(), total=len(df), desc=\"Refining Q&A pairs\"):\n",
    "    q, n = row.get(\"question\", \"\"), row.get(\"needle\", \"\")\n",
    "    \n",
    "    if idx > 0 and idx % 5 == 0:\n",
    "        print(\"⏳ Rate limit pause: sleeping for 15 seconds...\")\n",
    "        time.sleep(15)\n",
    "    \n",
    "    new_q, new_n = rewrite_question_and_needle(q, n)\n",
    "    updated_questions.append(new_q)\n",
    "    updated_needles.append(new_n)\n",
    "\n",
    "# Update the DataFrame\n",
    "df['question_refined'] = updated_questions\n",
    "df['needle_refined'] = updated_needles\n"
   ]
  },
  {
   "cell_type": "code",
   "execution_count": 10,
   "metadata": {},
   "outputs": [],
   "source": [
    "df['question_changed'] = df['question'] != df['question_refined']\n",
    "df['needle_changed'] = df['needle'] != df['needle_refined']"
   ]
  },
  {
   "cell_type": "code",
   "execution_count": 11,
   "metadata": {},
   "outputs": [
    {
     "name": "stderr",
     "output_type": "stream",
     "text": [
      "Generating misleading sentences:   5%|▌         | 5/96 [00:05<01:32,  1.02s/it]"
     ]
    },
    {
     "name": "stdout",
     "output_type": "stream",
     "text": [
      "⏳ Rate limit pause: sleeping for 15 seconds...\n"
     ]
    },
    {
     "name": "stderr",
     "output_type": "stream",
     "text": [
      "Generating misleading sentences:  10%|█         | 10/96 [00:23<02:45,  1.92s/it]"
     ]
    },
    {
     "name": "stdout",
     "output_type": "stream",
     "text": [
      "⏳ Rate limit pause: sleeping for 15 seconds...\n"
     ]
    },
    {
     "name": "stderr",
     "output_type": "stream",
     "text": [
      "Generating misleading sentences:  16%|█▌        | 15/96 [00:42<02:39,  1.96s/it]"
     ]
    },
    {
     "name": "stdout",
     "output_type": "stream",
     "text": [
      "⏳ Rate limit pause: sleeping for 15 seconds...\n"
     ]
    },
    {
     "name": "stderr",
     "output_type": "stream",
     "text": [
      "Generating misleading sentences:  21%|██        | 20/96 [01:00<02:32,  2.01s/it]"
     ]
    },
    {
     "name": "stdout",
     "output_type": "stream",
     "text": [
      "⏳ Rate limit pause: sleeping for 15 seconds...\n"
     ]
    },
    {
     "name": "stderr",
     "output_type": "stream",
     "text": [
      "Generating misleading sentences:  26%|██▌       | 25/96 [01:19<02:21,  1.99s/it]"
     ]
    },
    {
     "name": "stdout",
     "output_type": "stream",
     "text": [
      "⏳ Rate limit pause: sleeping for 15 seconds...\n"
     ]
    },
    {
     "name": "stderr",
     "output_type": "stream",
     "text": [
      "Generating misleading sentences:  31%|███▏      | 30/96 [01:37<02:06,  1.92s/it]"
     ]
    },
    {
     "name": "stdout",
     "output_type": "stream",
     "text": [
      "⏳ Rate limit pause: sleeping for 15 seconds...\n"
     ]
    },
    {
     "name": "stderr",
     "output_type": "stream",
     "text": [
      "Generating misleading sentences:  36%|███▋      | 35/96 [01:55<02:02,  2.00s/it]"
     ]
    },
    {
     "name": "stdout",
     "output_type": "stream",
     "text": [
      "⏳ Rate limit pause: sleeping for 15 seconds...\n"
     ]
    },
    {
     "name": "stderr",
     "output_type": "stream",
     "text": [
      "Generating misleading sentences:  42%|████▏     | 40/96 [02:14<01:50,  1.97s/it]"
     ]
    },
    {
     "name": "stdout",
     "output_type": "stream",
     "text": [
      "⏳ Rate limit pause: sleeping for 15 seconds...\n"
     ]
    },
    {
     "name": "stderr",
     "output_type": "stream",
     "text": [
      "Generating misleading sentences:  47%|████▋     | 45/96 [02:33<01:41,  1.99s/it]"
     ]
    },
    {
     "name": "stdout",
     "output_type": "stream",
     "text": [
      "⏳ Rate limit pause: sleeping for 15 seconds...\n"
     ]
    },
    {
     "name": "stderr",
     "output_type": "stream",
     "text": [
      "Generating misleading sentences:  52%|█████▏    | 50/96 [02:51<01:32,  2.01s/it]"
     ]
    },
    {
     "name": "stdout",
     "output_type": "stream",
     "text": [
      "⏳ Rate limit pause: sleeping for 15 seconds...\n"
     ]
    },
    {
     "name": "stderr",
     "output_type": "stream",
     "text": [
      "Generating misleading sentences:  57%|█████▋    | 55/96 [03:10<01:21,  1.99s/it]"
     ]
    },
    {
     "name": "stdout",
     "output_type": "stream",
     "text": [
      "⏳ Rate limit pause: sleeping for 15 seconds...\n"
     ]
    },
    {
     "name": "stderr",
     "output_type": "stream",
     "text": [
      "Generating misleading sentences:  62%|██████▎   | 60/96 [03:29<01:13,  2.05s/it]"
     ]
    },
    {
     "name": "stdout",
     "output_type": "stream",
     "text": [
      "⏳ Rate limit pause: sleeping for 15 seconds...\n"
     ]
    },
    {
     "name": "stderr",
     "output_type": "stream",
     "text": [
      "Generating misleading sentences:  68%|██████▊   | 65/96 [03:47<01:02,  2.03s/it]"
     ]
    },
    {
     "name": "stdout",
     "output_type": "stream",
     "text": [
      "⏳ Rate limit pause: sleeping for 15 seconds...\n"
     ]
    },
    {
     "name": "stderr",
     "output_type": "stream",
     "text": [
      "Generating misleading sentences:  73%|███████▎  | 70/96 [04:06<00:52,  2.02s/it]"
     ]
    },
    {
     "name": "stdout",
     "output_type": "stream",
     "text": [
      "⏳ Rate limit pause: sleeping for 15 seconds...\n"
     ]
    },
    {
     "name": "stderr",
     "output_type": "stream",
     "text": [
      "Generating misleading sentences:  78%|███████▊  | 75/96 [04:25<00:42,  2.04s/it]"
     ]
    },
    {
     "name": "stdout",
     "output_type": "stream",
     "text": [
      "⏳ Rate limit pause: sleeping for 15 seconds...\n"
     ]
    },
    {
     "name": "stderr",
     "output_type": "stream",
     "text": [
      "Generating misleading sentences:  83%|████████▎ | 80/96 [04:43<00:31,  1.96s/it]"
     ]
    },
    {
     "name": "stdout",
     "output_type": "stream",
     "text": [
      "⏳ Rate limit pause: sleeping for 15 seconds...\n"
     ]
    },
    {
     "name": "stderr",
     "output_type": "stream",
     "text": [
      "Generating misleading sentences:  89%|████████▊ | 85/96 [05:02<00:22,  2.01s/it]"
     ]
    },
    {
     "name": "stdout",
     "output_type": "stream",
     "text": [
      "⏳ Rate limit pause: sleeping for 15 seconds...\n"
     ]
    },
    {
     "name": "stderr",
     "output_type": "stream",
     "text": [
      "Generating misleading sentences:  94%|█████████▍| 90/96 [05:21<00:12,  2.07s/it]"
     ]
    },
    {
     "name": "stdout",
     "output_type": "stream",
     "text": [
      "⏳ Rate limit pause: sleeping for 15 seconds...\n"
     ]
    },
    {
     "name": "stderr",
     "output_type": "stream",
     "text": [
      "Generating misleading sentences:  99%|█████████▉| 95/96 [05:40<00:02,  2.04s/it]"
     ]
    },
    {
     "name": "stdout",
     "output_type": "stream",
     "text": [
      "⏳ Rate limit pause: sleeping for 15 seconds...\n"
     ]
    },
    {
     "name": "stderr",
     "output_type": "stream",
     "text": [
      "Generating misleading sentences: 100%|██████████| 96/96 [05:55<00:00,  3.71s/it]\n"
     ]
    },
    {
     "name": "stdout",
     "output_type": "stream",
     "text": [
      "✅ Data saved to FreshQADataset_with_misleading.xlsx\n"
     ]
    }
   ],
   "source": [
    "# Prompt builder using your custom format\n",
    "def build_prompt(question, answer):\n",
    "    return (\n",
    "        f\"Give me 5 sentences that slightly contradict this sentence (i.e. add semantic noise to the needle for the needle in haystack test):\\n\"\n",
    "        f\"Q: {question}\\n\"\n",
    "        f\"Needle: {answer}\\n\\n\"\n",
    "        f\"Give it to me in JSON format.\"\n",
    "    )\n",
    "\n",
    "# Get model response from Groq API\n",
    "def get_contradictions(question, answer):\n",
    "    while True:\n",
    "        try:\n",
    "            prompt = build_prompt(question, answer)\n",
    "            completion = client.chat.completions.create(\n",
    "                model=\"llama-3.3-70b-versatile\",\n",
    "                messages=[{\"role\": \"user\", \"content\": prompt}],\n",
    "                temperature=1.0,\n",
    "                max_tokens=1024,\n",
    "                top_p=1.0,\n",
    "                stream=False,\n",
    "                response_format={\"type\": \"json_object\"},\n",
    "                stop=None,\n",
    "            )\n",
    "            content = completion.choices[0].message.content\n",
    "            data = json.loads(content)[\"sentences\"]\n",
    "            return data\n",
    "        except Exception as e:\n",
    "            print(f\"Error: {e}\")\n",
    "            print(\"Retrying now...\")\n",
    "\n",
    "# Store misleading sentences\n",
    "misleading_statements = []\n",
    "\n",
    "# Generate misleading sentences per row\n",
    "misleading_statements = []\n",
    "for idx, row in tqdm(df.iterrows(), total=len(df), desc=\"Generating misleading sentences\"):\n",
    "    question = row.get(\"question_refined\", \"\")\n",
    "    needle = row.get(\"needle_refined\", \"\")\n",
    "    if idx > 0 and idx % 5 == 0:\n",
    "        print(\"⏳ Rate limit pause: sleeping for 15 seconds...\")\n",
    "        time.sleep(15)\n",
    "    misleading = get_contradictions(question, needle)\n",
    "    misleading_statements.append(misleading)\n",
    "\n",
    "# Add to DataFrame\n",
    "df['statements_misleading'] = misleading_statements\n",
    "\n",
    "# Save to Excel\n",
    "df.to_excel(\"FreshQADataset_with_misleading_combined.xlsx\", index=False)\n",
    "print(\"✅ Data saved to FreshQADataset_with_misleading.xlsx\")"
   ]
  },
  {
   "cell_type": "code",
   "execution_count": null,
   "metadata": {},
   "outputs": [],
   "source": [
    "df[\"real_needle_refined\"] = df[\"needle_refined\"]"
   ]
  },
  {
   "cell_type": "code",
   "execution_count": 14,
   "metadata": {},
   "outputs": [],
   "source": [
    "json_output = df.to_json(orient=\"records\", indent=4, force_ascii=False)\n",
    "with open(\"context.json\", \"w\", encoding=\"utf-8\") as f:\n",
    "    f.write(json_output)"
   ]
  }
 ],
 "metadata": {
  "kernelspec": {
   "display_name": ".venv",
   "language": "python",
   "name": "python3"
  },
  "language_info": {
   "codemirror_mode": {
    "name": "ipython",
    "version": 3
   },
   "file_extension": ".py",
   "mimetype": "text/x-python",
   "name": "python",
   "nbconvert_exporter": "python",
   "pygments_lexer": "ipython3",
   "version": "3.12.1"
  }
 },
 "nbformat": 4,
 "nbformat_minor": 2
}
