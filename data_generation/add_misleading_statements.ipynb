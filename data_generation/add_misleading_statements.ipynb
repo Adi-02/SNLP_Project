{
 "cells": [
  {
   "cell_type": "code",
   "execution_count": 6,
   "metadata": {},
   "outputs": [],
   "source": [
    "import pandas as pd\n",
    "from dotenv import load_dotenv\n",
    "import os\n",
    "from groq import Groq\n",
    "import time\n",
    "from tqdm import tqdm\n",
    "import json"
   ]
  },
  {
   "cell_type": "code",
   "execution_count": 7,
   "metadata": {},
   "outputs": [
    {
     "data": {
      "application/vnd.microsoft.datawrangler.viewer.v0+json": {
       "columns": [
        {
         "name": "index",
         "rawType": "int64",
         "type": "integer"
        },
        {
         "name": "id",
         "rawType": "int64",
         "type": "integer"
        },
        {
         "name": "question",
         "rawType": "object",
         "type": "string"
        },
        {
         "name": "needle",
         "rawType": "object",
         "type": "string"
        },
        {
         "name": "real_needle",
         "rawType": "object",
         "type": "string"
        },
        {
         "name": "context_relevant",
         "rawType": "object",
         "type": "string"
        },
        {
         "name": "context_irrelevant",
         "rawType": "object",
         "type": "string"
        },
        {
         "name": "statements_misleading",
         "rawType": "object",
         "type": "string"
        }
       ],
       "conversionMethod": "pd.DataFrame",
       "ref": "20dee705-c92a-46b6-893a-3f53707dfd17",
       "rows": [
        [
         "0",
         "43",
         "How long has Elon Musk been X Corp.'s CEO?",
         "Elon Musk is no longer X Corp.'s CEO.",
         "Elon Musk is no longer X Corp.'s CEO.",
         "43.txt",
         "43.txt",
         "['test1', 'test2', 'test3']"
        ],
        [
         "1",
         "44",
         "Where will the FIFA World Cup be hosted this year?",
         "There won't be a FIFA World Cup this year.",
         "There won't be a FIFA World Cup this year.",
         "44.txt",
         "44.txt",
         "['test1', 'test2', 'test3']"
        ],
        [
         "2",
         "92",
         "Alphabet's market capitalization reached its highest-ever recorded value during what month in 2021?",
         "The all-time highest value of Alphabet was in April 2024, not in 2021.",
         "The all-time highest value of Alphabet was in April 2024, not in 2021.",
         "92.txt",
         "92.txt",
         "['test1', 'test2', 'test3']"
        ],
        [
         "3",
         "95",
         "Which Republican was elected Speaker of the House in January 2023 on the ninth ballot?",
         "No one received a majority of the votes on the ninth ballot.",
         "No one received a majority of the votes on the ninth ballot.",
         "95.txt",
         "95.txt",
         "['test1', 'test2', 'test3']"
        ],
        [
         "4",
         "96",
         "In January 2023, the NHC revised the fatality data of Hurricane Katrina, increasing the reported death toll from 1,800 to what number?",
         "The reported death toll decreased to 1,392",
         "The reported death toll decreased to 1,392",
         "96.txt",
         "96.txt",
         "['test1', 'test2', 'test3']"
        ]
       ],
       "shape": {
        "columns": 7,
        "rows": 5
       }
      },
      "text/html": [
       "<div>\n",
       "<style scoped>\n",
       "    .dataframe tbody tr th:only-of-type {\n",
       "        vertical-align: middle;\n",
       "    }\n",
       "\n",
       "    .dataframe tbody tr th {\n",
       "        vertical-align: top;\n",
       "    }\n",
       "\n",
       "    .dataframe thead th {\n",
       "        text-align: right;\n",
       "    }\n",
       "</style>\n",
       "<table border=\"1\" class=\"dataframe\">\n",
       "  <thead>\n",
       "    <tr style=\"text-align: right;\">\n",
       "      <th></th>\n",
       "      <th>id</th>\n",
       "      <th>question</th>\n",
       "      <th>needle</th>\n",
       "      <th>real_needle</th>\n",
       "      <th>context_relevant</th>\n",
       "      <th>context_irrelevant</th>\n",
       "      <th>statements_misleading</th>\n",
       "    </tr>\n",
       "  </thead>\n",
       "  <tbody>\n",
       "    <tr>\n",
       "      <th>0</th>\n",
       "      <td>43</td>\n",
       "      <td>How long has Elon Musk been X Corp.'s CEO?</td>\n",
       "      <td>Elon Musk is no longer X Corp.'s CEO.</td>\n",
       "      <td>Elon Musk is no longer X Corp.'s CEO.</td>\n",
       "      <td>43.txt</td>\n",
       "      <td>43.txt</td>\n",
       "      <td>['test1', 'test2', 'test3']</td>\n",
       "    </tr>\n",
       "    <tr>\n",
       "      <th>1</th>\n",
       "      <td>44</td>\n",
       "      <td>Where will the FIFA World Cup be hosted this y...</td>\n",
       "      <td>There won't be a FIFA World Cup this year.</td>\n",
       "      <td>There won't be a FIFA World Cup this year.</td>\n",
       "      <td>44.txt</td>\n",
       "      <td>44.txt</td>\n",
       "      <td>['test1', 'test2', 'test3']</td>\n",
       "    </tr>\n",
       "    <tr>\n",
       "      <th>2</th>\n",
       "      <td>92</td>\n",
       "      <td>Alphabet's market capitalization reached its h...</td>\n",
       "      <td>The all-time highest value of Alphabet was in ...</td>\n",
       "      <td>The all-time highest value of Alphabet was in ...</td>\n",
       "      <td>92.txt</td>\n",
       "      <td>92.txt</td>\n",
       "      <td>['test1', 'test2', 'test3']</td>\n",
       "    </tr>\n",
       "    <tr>\n",
       "      <th>3</th>\n",
       "      <td>95</td>\n",
       "      <td>Which Republican was elected Speaker of the Ho...</td>\n",
       "      <td>No one received a majority of the votes on the...</td>\n",
       "      <td>No one received a majority of the votes on the...</td>\n",
       "      <td>95.txt</td>\n",
       "      <td>95.txt</td>\n",
       "      <td>['test1', 'test2', 'test3']</td>\n",
       "    </tr>\n",
       "    <tr>\n",
       "      <th>4</th>\n",
       "      <td>96</td>\n",
       "      <td>In January 2023, the NHC revised the fatality ...</td>\n",
       "      <td>The reported death toll decreased to 1,392</td>\n",
       "      <td>The reported death toll decreased to 1,392</td>\n",
       "      <td>96.txt</td>\n",
       "      <td>96.txt</td>\n",
       "      <td>['test1', 'test2', 'test3']</td>\n",
       "    </tr>\n",
       "  </tbody>\n",
       "</table>\n",
       "</div>"
      ],
      "text/plain": [
       "   id                                           question  \\\n",
       "0  43         How long has Elon Musk been X Corp.'s CEO?   \n",
       "1  44  Where will the FIFA World Cup be hosted this y...   \n",
       "2  92  Alphabet's market capitalization reached its h...   \n",
       "3  95  Which Republican was elected Speaker of the Ho...   \n",
       "4  96  In January 2023, the NHC revised the fatality ...   \n",
       "\n",
       "                                              needle  \\\n",
       "0              Elon Musk is no longer X Corp.'s CEO.   \n",
       "1         There won't be a FIFA World Cup this year.   \n",
       "2  The all-time highest value of Alphabet was in ...   \n",
       "3  No one received a majority of the votes on the...   \n",
       "4         The reported death toll decreased to 1,392   \n",
       "\n",
       "                                         real_needle context_relevant  \\\n",
       "0              Elon Musk is no longer X Corp.'s CEO.           43.txt   \n",
       "1         There won't be a FIFA World Cup this year.           44.txt   \n",
       "2  The all-time highest value of Alphabet was in ...           92.txt   \n",
       "3  No one received a majority of the votes on the...           95.txt   \n",
       "4         The reported death toll decreased to 1,392           96.txt   \n",
       "\n",
       "  context_irrelevant        statements_misleading  \n",
       "0             43.txt  ['test1', 'test2', 'test3']  \n",
       "1             44.txt  ['test1', 'test2', 'test3']  \n",
       "2             92.txt  ['test1', 'test2', 'test3']  \n",
       "3             95.txt  ['test1', 'test2', 'test3']  \n",
       "4             96.txt  ['test1', 'test2', 'test3']  "
      ]
     },
     "execution_count": 7,
     "metadata": {},
     "output_type": "execute_result"
    }
   ],
   "source": [
    "df = pd.read_excel(\"Fresh_QA_without_misleading_statements.xlsx\")\n",
    "df.head()"
   ]
  },
  {
   "cell_type": "code",
   "execution_count": 8,
   "metadata": {},
   "outputs": [
    {
     "data": {
      "application/vnd.microsoft.datawrangler.viewer.v0+json": {
       "columns": [
        {
         "name": "index",
         "rawType": "int64",
         "type": "integer"
        },
        {
         "name": "id",
         "rawType": "int64",
         "type": "integer"
        },
        {
         "name": "question",
         "rawType": "object",
         "type": "string"
        },
        {
         "name": "needle",
         "rawType": "object",
         "type": "string"
        },
        {
         "name": "real_needle",
         "rawType": "object",
         "type": "string"
        },
        {
         "name": "context_relevant",
         "rawType": "object",
         "type": "string"
        },
        {
         "name": "context_irrelevant",
         "rawType": "object",
         "type": "string"
        }
       ],
       "conversionMethod": "pd.DataFrame",
       "ref": "7de78a32-096e-43aa-b720-dfeceac14933",
       "rows": [
        [
         "0",
         "43",
         "How long has Elon Musk been X Corp.'s CEO?",
         "Elon Musk is no longer X Corp.'s CEO.",
         "Elon Musk is no longer X Corp.'s CEO.",
         "43.txt",
         "43.txt"
        ],
        [
         "1",
         "44",
         "Where will the FIFA World Cup be hosted this year?",
         "There won't be a FIFA World Cup this year.",
         "There won't be a FIFA World Cup this year.",
         "44.txt",
         "44.txt"
        ],
        [
         "2",
         "92",
         "Alphabet's market capitalization reached its highest-ever recorded value during what month in 2021?",
         "The all-time highest value of Alphabet was in April 2024, not in 2021.",
         "The all-time highest value of Alphabet was in April 2024, not in 2021.",
         "92.txt",
         "92.txt"
        ],
        [
         "3",
         "95",
         "Which Republican was elected Speaker of the House in January 2023 on the ninth ballot?",
         "No one received a majority of the votes on the ninth ballot.",
         "No one received a majority of the votes on the ninth ballot.",
         "95.txt",
         "95.txt"
        ],
        [
         "4",
         "96",
         "In January 2023, the NHC revised the fatality data of Hurricane Katrina, increasing the reported death toll from 1,800 to what number?",
         "The reported death toll decreased to 1,392",
         "The reported death toll decreased to 1,392",
         "96.txt",
         "96.txt"
        ],
        [
         "5",
         "121",
         "What is the most recent country that President Donald Trump visited during his second presidency?",
         "President Donald Trump hasn't visited any countries during his second presidency.",
         "President Donald Trump hasn't visited any countries during his second presidency.",
         "121.txt",
         "121.txt"
        ],
        [
         "6",
         "122",
         "Who was the winner of The Voice US this year?",
         "This season of The Voice is still ongoing, and the final results have not been announced yet.",
         "This season of The Voice is still ongoing, and the final results have not been announced yet.",
         "122.txt",
         "122.txt"
        ],
        [
         "7",
         "123",
         "Who did Michael van Gerwen beat to win this year's PDC World Darts Championship?",
         "Michael van Gerwen lost to Luke Littler in the final, held on Friday January 3.",
         "Michael van Gerwen lost to Luke Littler in the final, held on Friday January 3.",
         "123.txt",
         "123.txt"
        ],
        [
         "8",
         "155",
         "Who is the most recent player to win both the PDC World Youth Championship and the PDC World Darts Championship?",
         "Luke Littler",
         "Luke Littler",
         "155.txt",
         "155.txt"
        ],
        [
         "9",
         "156",
         "What was the Weeknd's last studio album titled?",
         "Hurry Up Tomorrow",
         "Hurry Up Tomorrow",
         "156.txt",
         "156.txt"
        ],
        [
         "10",
         "157",
         "How many seats are there in the German Bundestag?",
         "630",
         "630",
         "157.txt",
         "157.txt"
        ],
        [
         "11",
         "160",
         "Who is the President of the United States?",
         "Donald Trump",
         "Donald Trump",
         "160.txt",
         "160.txt"
        ],
        [
         "12",
         "162",
         "Who is the current Prime Minister of Japan?",
         "Shigeru Ishiba",
         "Shigeru Ishiba",
         "162.txt",
         "162.txt"
        ],
        [
         "13",
         "163",
         "How many asteroids have been discovered before impacting Earth?",
         "11",
         "11",
         "163.txt",
         "163.txt"
        ],
        [
         "14",
         "164",
         "Which country is the most recent member state of the Schengen Area?",
         "Bulgaria and Romania",
         "Bulgaria and Romania",
         "164.txt",
         "164.txt"
        ],
        [
         "15",
         "165",
         "What is Greg Egan's latest novel?",
         "Morphotrophic",
         "Morphotrophic",
         "165.txt",
         "165.txt"
        ],
        [
         "16",
         "166",
         "What is the title of Taylor Swift's most recent studio album?",
         "The Tortured Poets Department",
         "The Tortured Poets Department",
         "166.txt",
         "166.txt"
        ],
        [
         "17",
         "167",
         "Who is the current Prime Minister of the United Kingdom?",
         "Keir Starmer",
         "Keir Starmer",
         "167.txt",
         "167.txt"
        ],
        [
         "18",
         "168",
         "Who is the most recent former Prime Minister of the United Kingdom?",
         "Rishi Sunak",
         "Rishi Sunak",
         "168.txt",
         "168.txt"
        ],
        [
         "19",
         "170",
         "What is the most recent outbreak declared as a public health emergency of international concern by WHO?",
         "Clade I mpox",
         "Clade I mpox",
         "170.txt",
         "170.txt"
        ],
        [
         "20",
         "172",
         "How many LA metro rail stations are there?",
         "102",
         "102",
         "172.txt",
         "172.txt"
        ],
        [
         "21",
         "173",
         "Who won the biggest single-tournament payday in tennis history?",
         "Jannik Sinner",
         "Jannik Sinner",
         "173.txt",
         "173.txt"
        ],
        [
         "22",
         "175",
         "On what date did Kendrick Lamar release his most recent studio album?",
         "Nov 22, 2024",
         "Nov 22, 2024",
         "175.txt",
         "175.txt"
        ],
        [
         "23",
         "180",
         "What's the latest major version of the .NET?",
         ".NET 9",
         ".NET 9",
         "180.txt",
         "180.txt"
        ],
        [
         "24",
         "182",
         "How many food allergens with mandatory labeling are there in the United States?",
         "9",
         "9",
         "182.txt",
         "182.txt"
        ],
        [
         "25",
         "183",
         "Who is the X Corp.'s CEO?",
         "Linda Yaccarino",
         "Linda Yaccarino",
         "183.txt",
         "183.txt"
        ],
        [
         "26",
         "185",
         "What's the largest stadium by capacity in the world?",
         "Narendra Modi Stadium",
         "Narendra Modi Stadium",
         "185.txt",
         "185.txt"
        ],
        [
         "27",
         "187",
         "Who is the chancellor of UMass Amherst?",
         "Javier Reyes",
         "Javier Reyes",
         "187.txt",
         "187.txt"
        ],
        [
         "28",
         "189",
         "What is the most recently released Studio Ghibli film?",
         "The Boy and the Heron",
         "The Boy and the Heron",
         "189.txt",
         "189.txt"
        ],
        [
         "29",
         "192",
         "What is Croatia's current national currency?",
         "Euro",
         "Euro",
         "192.txt",
         "192.txt"
        ],
        [
         "30",
         "193",
         "How many member states are there in the Eurozone?",
         "20",
         "20",
         "193.txt",
         "193.txt"
        ],
        [
         "31",
         "196",
         "What country became the latest country to adopt the Euro?",
         "Croatia",
         "Croatia",
         "196.txt",
         "196.txt"
        ],
        [
         "32",
         "198",
         "How many vehicle models does Tesla offer?",
         "6",
         "6",
         "198.txt",
         "198.txt"
        ],
        [
         "33",
         "377",
         "How many exoplanets have been discovered?",
         "5,867 confirmed exoplanets",
         "5,867 confirmed exoplanets",
         "377.txt",
         "377.txt"
        ],
        [
         "34",
         "380",
         "How many tornadoes have been confirmed by Enhanced Fujita rating in the United States so far this year?",
         "193",
         "193",
         "380.txt",
         "380.txt"
        ],
        [
         "35",
         "384",
         "What is the current most popular Wikipedia article of the Week?",
         "Adolescence (TV series)",
         "Adolescence (TV series)",
         "384.txt",
         "384.txt"
        ],
        [
         "36",
         "391",
         "Who won the most recent Super Bowl?",
         "Philadelphia Eagles",
         "Philadelphia Eagles",
         "391.txt",
         "391.txt"
        ],
        [
         "37",
         "393",
         "What are this year's Coachella festival dates?",
         "April 11–13 and April 18–20",
         "April 11–13 and April 18–20",
         "393.txt",
         "393.txt"
        ],
        [
         "38",
         "396",
         "Who were the finalists in the US Open women's singles last year?",
         "Aryna Sabalenka and Jessica Pegula",
         "Aryna Sabalenka and Jessica Pegula",
         "396.txt",
         "396.txt"
        ],
        [
         "39",
         "401",
         "Which broadcast network is this year's Super Bowl broadcaster?",
         "Fox and Tubi",
         "Fox and Tubi",
         "401.txt",
         "401.txt"
        ],
        [
         "40",
         "402",
         "What was the highest-grossing film in the United States last year?",
         "Inside Out 2",
         "Inside Out 2",
         "402.txt",
         "402.txt"
        ],
        [
         "41",
         "403",
         "What Berber year corresponds to the present year?",
         "2975",
         "2975",
         "403.txt",
         "403.txt"
        ],
        [
         "42",
         "408",
         "On what date was last year's State of the Union Address delivered?",
         "Mar 7, 2024",
         "Mar 7, 2024",
         "408.txt",
         "408.txt"
        ],
        [
         "43",
         "409",
         "Who won the latest Grammy Award for Best Jazz Performance?",
         "Samara Joy featuring Sullivan Fortner",
         "Samara Joy featuring Sullivan Fortner",
         "409.txt",
         "409.txt"
        ],
        [
         "44",
         "410",
         "What won the latest Academy Award for Best Animated Feature?",
         "Flow",
         "Flow",
         "410.txt",
         "410.txt"
        ],
        [
         "45",
         "411",
         "Which movie won the latest Academy Award for Best Picture?",
         "Anora",
         "Anora",
         "411.txt",
         "411.txt"
        ],
        [
         "46",
         "420",
         "Which team is at the top of the latest Premier League season?",
         "Liverpool",
         "Liverpool",
         "420.txt",
         "420.txt"
        ],
        [
         "47",
         "421",
         "Is Arsenal on the top of the latest Premier League standings?",
         "No",
         "No",
         "421.txt",
         "421.txt"
        ],
        [
         "48",
         "422",
         "Who was the guest of honor at the most recent state dinner hosted by the President of the United States?",
         "William Ruto",
         "William Ruto",
         "422.txt",
         "422.txt"
        ],
        [
         "49",
         "423",
         "What album holds the record for the most Spotify streams reached in a single day?",
         "The Tortured Poets Department",
         "The Tortured Poets Department",
         "423.txt",
         "423.txt"
        ]
       ],
       "shape": {
        "columns": 6,
        "rows": 79
       }
      },
      "text/html": [
       "<div>\n",
       "<style scoped>\n",
       "    .dataframe tbody tr th:only-of-type {\n",
       "        vertical-align: middle;\n",
       "    }\n",
       "\n",
       "    .dataframe tbody tr th {\n",
       "        vertical-align: top;\n",
       "    }\n",
       "\n",
       "    .dataframe thead th {\n",
       "        text-align: right;\n",
       "    }\n",
       "</style>\n",
       "<table border=\"1\" class=\"dataframe\">\n",
       "  <thead>\n",
       "    <tr style=\"text-align: right;\">\n",
       "      <th></th>\n",
       "      <th>id</th>\n",
       "      <th>question</th>\n",
       "      <th>needle</th>\n",
       "      <th>real_needle</th>\n",
       "      <th>context_relevant</th>\n",
       "      <th>context_irrelevant</th>\n",
       "    </tr>\n",
       "  </thead>\n",
       "  <tbody>\n",
       "    <tr>\n",
       "      <th>0</th>\n",
       "      <td>43</td>\n",
       "      <td>How long has Elon Musk been X Corp.'s CEO?</td>\n",
       "      <td>Elon Musk is no longer X Corp.'s CEO.</td>\n",
       "      <td>Elon Musk is no longer X Corp.'s CEO.</td>\n",
       "      <td>43.txt</td>\n",
       "      <td>43.txt</td>\n",
       "    </tr>\n",
       "    <tr>\n",
       "      <th>1</th>\n",
       "      <td>44</td>\n",
       "      <td>Where will the FIFA World Cup be hosted this y...</td>\n",
       "      <td>There won't be a FIFA World Cup this year.</td>\n",
       "      <td>There won't be a FIFA World Cup this year.</td>\n",
       "      <td>44.txt</td>\n",
       "      <td>44.txt</td>\n",
       "    </tr>\n",
       "    <tr>\n",
       "      <th>2</th>\n",
       "      <td>92</td>\n",
       "      <td>Alphabet's market capitalization reached its h...</td>\n",
       "      <td>The all-time highest value of Alphabet was in ...</td>\n",
       "      <td>The all-time highest value of Alphabet was in ...</td>\n",
       "      <td>92.txt</td>\n",
       "      <td>92.txt</td>\n",
       "    </tr>\n",
       "    <tr>\n",
       "      <th>3</th>\n",
       "      <td>95</td>\n",
       "      <td>Which Republican was elected Speaker of the Ho...</td>\n",
       "      <td>No one received a majority of the votes on the...</td>\n",
       "      <td>No one received a majority of the votes on the...</td>\n",
       "      <td>95.txt</td>\n",
       "      <td>95.txt</td>\n",
       "    </tr>\n",
       "    <tr>\n",
       "      <th>4</th>\n",
       "      <td>96</td>\n",
       "      <td>In January 2023, the NHC revised the fatality ...</td>\n",
       "      <td>The reported death toll decreased to 1,392</td>\n",
       "      <td>The reported death toll decreased to 1,392</td>\n",
       "      <td>96.txt</td>\n",
       "      <td>96.txt</td>\n",
       "    </tr>\n",
       "    <tr>\n",
       "      <th>...</th>\n",
       "      <td>...</td>\n",
       "      <td>...</td>\n",
       "      <td>...</td>\n",
       "      <td>...</td>\n",
       "      <td>...</td>\n",
       "      <td>...</td>\n",
       "    </tr>\n",
       "    <tr>\n",
       "      <th>74</th>\n",
       "      <td>586</td>\n",
       "      <td>What is the name of the most recent hurricane ...</td>\n",
       "      <td>Milton</td>\n",
       "      <td>Milton</td>\n",
       "      <td>586.txt</td>\n",
       "      <td>586.txt</td>\n",
       "    </tr>\n",
       "    <tr>\n",
       "      <th>75</th>\n",
       "      <td>587</td>\n",
       "      <td>What is King Gizzard’s most recent studio album?</td>\n",
       "      <td>Flight b741</td>\n",
       "      <td>Flight b741</td>\n",
       "      <td>587.txt</td>\n",
       "      <td>587.txt</td>\n",
       "    </tr>\n",
       "    <tr>\n",
       "      <th>76</th>\n",
       "      <td>588</td>\n",
       "      <td>Which comedy series won the most recent Primet...</td>\n",
       "      <td>Hacks (Season 3)</td>\n",
       "      <td>Hacks (Season 3)</td>\n",
       "      <td>588.txt</td>\n",
       "      <td>588.txt</td>\n",
       "    </tr>\n",
       "    <tr>\n",
       "      <th>77</th>\n",
       "      <td>589</td>\n",
       "      <td>What institution won the most recent ACM-ICPC ...</td>\n",
       "      <td>Peking University</td>\n",
       "      <td>Peking University</td>\n",
       "      <td>589.txt</td>\n",
       "      <td>589.txt</td>\n",
       "    </tr>\n",
       "    <tr>\n",
       "      <th>78</th>\n",
       "      <td>590</td>\n",
       "      <td>Who won the most recent season of America's Go...</td>\n",
       "      <td>Richard Goodall</td>\n",
       "      <td>Richard Goodall</td>\n",
       "      <td>590.txt</td>\n",
       "      <td>590.txt</td>\n",
       "    </tr>\n",
       "  </tbody>\n",
       "</table>\n",
       "<p>79 rows × 6 columns</p>\n",
       "</div>"
      ],
      "text/plain": [
       "     id                                           question  \\\n",
       "0    43         How long has Elon Musk been X Corp.'s CEO?   \n",
       "1    44  Where will the FIFA World Cup be hosted this y...   \n",
       "2    92  Alphabet's market capitalization reached its h...   \n",
       "3    95  Which Republican was elected Speaker of the Ho...   \n",
       "4    96  In January 2023, the NHC revised the fatality ...   \n",
       "..  ...                                                ...   \n",
       "74  586  What is the name of the most recent hurricane ...   \n",
       "75  587   What is King Gizzard’s most recent studio album?   \n",
       "76  588  Which comedy series won the most recent Primet...   \n",
       "77  589  What institution won the most recent ACM-ICPC ...   \n",
       "78  590  Who won the most recent season of America's Go...   \n",
       "\n",
       "                                               needle  \\\n",
       "0               Elon Musk is no longer X Corp.'s CEO.   \n",
       "1          There won't be a FIFA World Cup this year.   \n",
       "2   The all-time highest value of Alphabet was in ...   \n",
       "3   No one received a majority of the votes on the...   \n",
       "4          The reported death toll decreased to 1,392   \n",
       "..                                                ...   \n",
       "74                                             Milton   \n",
       "75                                        Flight b741   \n",
       "76                                   Hacks (Season 3)   \n",
       "77                                  Peking University   \n",
       "78                                    Richard Goodall   \n",
       "\n",
       "                                          real_needle context_relevant  \\\n",
       "0               Elon Musk is no longer X Corp.'s CEO.           43.txt   \n",
       "1          There won't be a FIFA World Cup this year.           44.txt   \n",
       "2   The all-time highest value of Alphabet was in ...           92.txt   \n",
       "3   No one received a majority of the votes on the...           95.txt   \n",
       "4          The reported death toll decreased to 1,392           96.txt   \n",
       "..                                                ...              ...   \n",
       "74                                             Milton          586.txt   \n",
       "75                                        Flight b741          587.txt   \n",
       "76                                   Hacks (Season 3)          588.txt   \n",
       "77                                  Peking University          589.txt   \n",
       "78                                    Richard Goodall          590.txt   \n",
       "\n",
       "   context_irrelevant  \n",
       "0              43.txt  \n",
       "1              44.txt  \n",
       "2              92.txt  \n",
       "3              95.txt  \n",
       "4              96.txt  \n",
       "..                ...  \n",
       "74            586.txt  \n",
       "75            587.txt  \n",
       "76            588.txt  \n",
       "77            589.txt  \n",
       "78            590.txt  \n",
       "\n",
       "[79 rows x 6 columns]"
      ]
     },
     "execution_count": 8,
     "metadata": {},
     "output_type": "execute_result"
    }
   ],
   "source": [
    "df.drop(columns=[\"statements_misleading\"], inplace=True)\n",
    "df"
   ]
  },
  {
   "cell_type": "code",
   "execution_count": 9,
   "metadata": {},
   "outputs": [
    {
     "name": "stderr",
     "output_type": "stream",
     "text": [
      "Generating misleading sentences:   6%|▋         | 5/79 [00:07<01:46,  1.44s/it]"
     ]
    },
    {
     "name": "stdout",
     "output_type": "stream",
     "text": [
      "⏳ Rate limit pause: sleeping for 15 seconds...\n"
     ]
    },
    {
     "name": "stderr",
     "output_type": "stream",
     "text": [
      "Generating misleading sentences:  13%|█▎        | 10/79 [00:25<02:07,  1.84s/it]"
     ]
    },
    {
     "name": "stdout",
     "output_type": "stream",
     "text": [
      "⏳ Rate limit pause: sleeping for 15 seconds...\n"
     ]
    },
    {
     "name": "stderr",
     "output_type": "stream",
     "text": [
      "Generating misleading sentences:  19%|█▉        | 15/79 [00:43<02:01,  1.90s/it]"
     ]
    },
    {
     "name": "stdout",
     "output_type": "stream",
     "text": [
      "⏳ Rate limit pause: sleeping for 15 seconds...\n"
     ]
    },
    {
     "name": "stderr",
     "output_type": "stream",
     "text": [
      "Generating misleading sentences:  22%|██▏       | 17/79 [01:00<04:32,  4.40s/it]"
     ]
    },
    {
     "name": "stdout",
     "output_type": "stream",
     "text": [
      "Error: 'sentences'\n",
      "Retrying now...\n"
     ]
    },
    {
     "name": "stderr",
     "output_type": "stream",
     "text": [
      "Generating misleading sentences:  25%|██▌       | 20/79 [01:02<02:03,  2.09s/it]"
     ]
    },
    {
     "name": "stdout",
     "output_type": "stream",
     "text": [
      "⏳ Rate limit pause: sleeping for 15 seconds...\n"
     ]
    },
    {
     "name": "stderr",
     "output_type": "stream",
     "text": [
      "Generating misleading sentences:  32%|███▏      | 25/79 [01:21<01:50,  2.05s/it]"
     ]
    },
    {
     "name": "stdout",
     "output_type": "stream",
     "text": [
      "⏳ Rate limit pause: sleeping for 15 seconds...\n"
     ]
    },
    {
     "name": "stderr",
     "output_type": "stream",
     "text": [
      "Generating misleading sentences:  38%|███▊      | 30/79 [01:39<01:35,  1.96s/it]"
     ]
    },
    {
     "name": "stdout",
     "output_type": "stream",
     "text": [
      "⏳ Rate limit pause: sleeping for 15 seconds...\n"
     ]
    },
    {
     "name": "stderr",
     "output_type": "stream",
     "text": [
      "Generating misleading sentences:  43%|████▎     | 34/79 [01:57<01:51,  2.49s/it]"
     ]
    },
    {
     "name": "stdout",
     "output_type": "stream",
     "text": [
      "Error: 'sentences'\n",
      "Retrying now...\n"
     ]
    },
    {
     "name": "stderr",
     "output_type": "stream",
     "text": [
      "Generating misleading sentences:  44%|████▍     | 35/79 [01:59<01:35,  2.17s/it]"
     ]
    },
    {
     "name": "stdout",
     "output_type": "stream",
     "text": [
      "⏳ Rate limit pause: sleeping for 15 seconds...\n"
     ]
    },
    {
     "name": "stderr",
     "output_type": "stream",
     "text": [
      "Generating misleading sentences:  51%|█████     | 40/79 [02:17<01:18,  2.02s/it]"
     ]
    },
    {
     "name": "stdout",
     "output_type": "stream",
     "text": [
      "⏳ Rate limit pause: sleeping for 15 seconds...\n"
     ]
    },
    {
     "name": "stderr",
     "output_type": "stream",
     "text": [
      "Generating misleading sentences:  57%|█████▋    | 45/79 [02:35<01:05,  1.94s/it]"
     ]
    },
    {
     "name": "stdout",
     "output_type": "stream",
     "text": [
      "⏳ Rate limit pause: sleeping for 15 seconds...\n"
     ]
    },
    {
     "name": "stderr",
     "output_type": "stream",
     "text": [
      "Generating misleading sentences:  63%|██████▎   | 50/79 [02:53<00:55,  1.93s/it]"
     ]
    },
    {
     "name": "stdout",
     "output_type": "stream",
     "text": [
      "⏳ Rate limit pause: sleeping for 15 seconds...\n"
     ]
    },
    {
     "name": "stderr",
     "output_type": "stream",
     "text": [
      "Generating misleading sentences:  70%|██████▉   | 55/79 [03:12<00:48,  2.01s/it]"
     ]
    },
    {
     "name": "stdout",
     "output_type": "stream",
     "text": [
      "⏳ Rate limit pause: sleeping for 15 seconds...\n"
     ]
    },
    {
     "name": "stderr",
     "output_type": "stream",
     "text": [
      "Generating misleading sentences:  76%|███████▌  | 60/79 [03:31<00:37,  1.95s/it]"
     ]
    },
    {
     "name": "stdout",
     "output_type": "stream",
     "text": [
      "⏳ Rate limit pause: sleeping for 15 seconds...\n"
     ]
    },
    {
     "name": "stderr",
     "output_type": "stream",
     "text": [
      "Generating misleading sentences:  81%|████████  | 64/79 [03:48<00:37,  2.52s/it]"
     ]
    },
    {
     "name": "stdout",
     "output_type": "stream",
     "text": [
      "Error: 'sentences'\n",
      "Retrying now...\n"
     ]
    },
    {
     "name": "stderr",
     "output_type": "stream",
     "text": [
      "Generating misleading sentences:  82%|████████▏ | 65/79 [03:49<00:29,  2.11s/it]"
     ]
    },
    {
     "name": "stdout",
     "output_type": "stream",
     "text": [
      "⏳ Rate limit pause: sleeping for 15 seconds...\n"
     ]
    },
    {
     "name": "stderr",
     "output_type": "stream",
     "text": [
      "Generating misleading sentences:  89%|████████▊ | 70/79 [04:08<00:17,  2.00s/it]"
     ]
    },
    {
     "name": "stdout",
     "output_type": "stream",
     "text": [
      "⏳ Rate limit pause: sleeping for 15 seconds...\n"
     ]
    },
    {
     "name": "stderr",
     "output_type": "stream",
     "text": [
      "Generating misleading sentences:  95%|█████████▍| 75/79 [04:26<00:07,  1.95s/it]"
     ]
    },
    {
     "name": "stdout",
     "output_type": "stream",
     "text": [
      "⏳ Rate limit pause: sleeping for 15 seconds...\n"
     ]
    },
    {
     "name": "stderr",
     "output_type": "stream",
     "text": [
      "Generating misleading sentences: 100%|██████████| 79/79 [04:44<00:00,  3.60s/it]"
     ]
    },
    {
     "name": "stdout",
     "output_type": "stream",
     "text": [
      "✅ Data saved to FreshQADataset_with_misleading.xlsx\n"
     ]
    },
    {
     "name": "stderr",
     "output_type": "stream",
     "text": [
      "\n"
     ]
    }
   ],
   "source": [
    "# Load .env and API key\n",
    "load_dotenv()\n",
    "groq_api_key = os.getenv(\"snlp_api_key\")\n",
    "\n",
    "# Initialize Groq client\n",
    "client = Groq(api_key=groq_api_key)\n",
    "\n",
    "# Prompt builder using your custom format\n",
    "def build_prompt(question, answer):\n",
    "    return (\n",
    "        f\"Give me 5 sentences that slightly contradict this sentence (i.e. add semantic noise to the needle for the needle in haystack test):\\n\"\n",
    "        f\"Q: {question}\\n\"\n",
    "        f\"Needle: {answer}\\n\\n\"\n",
    "        f\"Give it to me in JSON format.\"\n",
    "    )\n",
    "\n",
    "# Get model response from Groq API\n",
    "def get_contradictions(question, answer):\n",
    "    while True:\n",
    "        try:\n",
    "            prompt = build_prompt(question, answer)\n",
    "            completion = client.chat.completions.create(\n",
    "                model=\"llama-3.3-70b-versatile\",\n",
    "                messages=[{\"role\": \"user\", \"content\": prompt}],\n",
    "                temperature=1.0,\n",
    "                max_tokens=1024,\n",
    "                top_p=1.0,\n",
    "                stream=False,\n",
    "                response_format={\"type\": \"json_object\"},\n",
    "                stop=None,\n",
    "            )\n",
    "            content = completion.choices[0].message.content\n",
    "            data = json.loads(content)[\"sentences\"]\n",
    "            return data\n",
    "        except Exception as e:\n",
    "            print(f\"Error: {e}\")\n",
    "            print(\"Retrying now...\")\n",
    "\n",
    "# Store misleading sentences\n",
    "misleading_statements = []\n",
    "\n",
    "# Generate misleading sentences per row\n",
    "misleading_statements = []\n",
    "for idx, row in tqdm(df.iterrows(), total=len(df), desc=\"Generating misleading sentences\"):\n",
    "    question = row.get(\"question\", \"\")\n",
    "    needle = row.get(\"needle\", \"\")\n",
    "    if idx > 0 and idx % 5 == 0:\n",
    "        print(\"⏳ Rate limit pause: sleeping for 15 seconds...\")\n",
    "        time.sleep(15)\n",
    "    misleading = get_contradictions(question, needle)\n",
    "    misleading_statements.append(misleading)\n",
    "\n",
    "# Add to DataFrame\n",
    "df['statements_misleading'] = misleading_statements\n",
    "\n",
    "# Save to Excel\n",
    "df.to_excel(\"FreshQADataset_with_misleading.xlsx\", index=False)\n",
    "print(\"✅ Data saved to FreshQADataset_with_misleading.xlsx\")"
   ]
  },
  {
   "cell_type": "code",
   "execution_count": 10,
   "metadata": {},
   "outputs": [],
   "source": [
    "json_output = df.to_json(orient=\"records\", indent=4, force_ascii=False)\n",
    "with open(\"context.json\", \"w\", encoding=\"utf-8\") as f:\n",
    "    f.write(json_output)\n"
   ]
  },
  {
   "cell_type": "code",
   "execution_count": null,
   "metadata": {},
   "outputs": [],
   "source": []
  }
 ],
 "metadata": {
  "kernelspec": {
   "display_name": ".venv",
   "language": "python",
   "name": "python3"
  },
  "language_info": {
   "codemirror_mode": {
    "name": "ipython",
    "version": 3
   },
   "file_extension": ".py",
   "mimetype": "text/x-python",
   "name": "python",
   "nbconvert_exporter": "python",
   "pygments_lexer": "ipython3",
   "version": "3.12.1"
  }
 },
 "nbformat": 4,
 "nbformat_minor": 2
}
